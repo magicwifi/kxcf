{
 "cells": [
  {
   "cell_type": "code",
   "execution_count": 50,
   "metadata": {},
   "outputs": [],
   "source": [
    "# coding:utf-8\n",
    "import numpy as np\n",
    "import pandas as pd\n",
    "from pandas import Series, DataFrame\n",
    "\n",
    "import matplotlib.pyplot as plt\n",
    "\n",
    "from sklearn.model_selection import train_test_split\n",
    "\n",
    "\n",
    "%matplotlib inline\n"
   ]
  },
  {
   "cell_type": "code",
   "execution_count": 51,
   "metadata": {},
   "outputs": [
    {
     "name": "stderr",
     "output_type": "stream",
     "text": [
      "b'Skipping line 173315: expected 18 fields, saw 20\\n'\n",
      "/home/ubuntu/anaconda3/envs/tensorflow_p36/lib/python3.6/site-packages/IPython/core/interactiveshell.py:2785: DtypeWarning: Columns (8,9) have mixed types. Specify dtype option on import or set low_memory=False.\n",
      "  interactivity=interactivity, compiler=compiler, result=result)\n"
     ]
    }
   ],
   "source": [
    "train_user = pd.read_csv('data/table1_user',encoding='utf-8',index_col = False, delimiter='\\t',\n",
    "                                 )\n",
    "train_user['cur_jd_type'] = train_user['cur_jd_type'].astype(str)\n",
    "train_user.loc[train_user['cur_jd_type']=='nan',['cur_jd_type']] = '无业'\n",
    "train_job = pd.read_csv(\"data/table2_jd\",delimiter=\"\\t\",error_bad_lines=False)\n",
    "train_action = pd.read_csv(\"data/table3_action\",delimiter=\"\\t\")\n",
    "test_action = pd.read_csv(\"data/zhaopin_round1_user_exposure_B_20190819\",delim_whitespace=True)\n",
    "test_user = pd.read_csv(\"data/user_ToBePredicted\",delimiter=\"\\t\")\n",
    "test_user['cur_jd_type'] = test_user['cur_jd_type'].astype(str)\n",
    "test_user.loc[test_user['cur_jd_type']=='nan',['cur_jd_type']] = '无业'\n",
    "train_action['mix_sat']  = train_action['satisfied']*10+train_action['delivered']*3\n",
    "train_action.loc[train_action.mix_sat==13,'mix_sat'] =10"
   ]
  },
  {
   "cell_type": "code",
   "execution_count": 52,
   "metadata": {},
   "outputs": [],
   "source": [
    "train_big_table = pd.merge(train_action,train_user,how=\"inner\",on=\"user_id\")\n",
    "train_big_table = pd.merge(train_big_table,train_job,how=\"inner\",on=\"jd_no\")\n",
    "test_big_table = pd.merge(test_action,test_user,how=\"inner\",on=\"user_id\")\n",
    "test_big_table = pd.merge(test_big_table,train_job,how=\"inner\",on=\"jd_no\")\n",
    "train_big_table.drop_duplicates(inplace=True)\n",
    "test_big_table.drop_duplicates(inplace=True)"
   ]
  },
  {
   "cell_type": "code",
   "execution_count": 53,
   "metadata": {},
   "outputs": [],
   "source": [
    "train_big_table['statis_del'] = train_big_table['satisfied']\n",
    "train_big_table.loc[(train_big_table['statis_del']==0)&(train_big_table['delivered']==1),['statis_del']]=0.3"
   ]
  },
  {
   "cell_type": "code",
   "execution_count": 54,
   "metadata": {},
   "outputs": [],
   "source": [
    "train_big_table['start_date'].fillna('na',inplace=True)\n",
    "test_big_table['start_date'].fillna('na',inplace=True)\n",
    "train_big_table['end_date'].fillna('na',inplace=True)\n",
    "test_big_table['end_date'].fillna('na',inplace=True)\n",
    "train_big_table['start_date'] = train_big_table['start_date'].astype(str)\n",
    "train_big_table['end_date'] = train_big_table['end_date'].astype(str)\n",
    "test_big_table['start_date'] = test_big_table['start_date'].astype(str)\n",
    "test_big_table['end_date'] = test_big_table['end_date'].astype(str)"
   ]
  },
  {
   "cell_type": "code",
   "execution_count": 55,
   "metadata": {},
   "outputs": [],
   "source": [
    "from datetime import datetime\n",
    "\n",
    "def remain_date(x):\n",
    "    if  'N' in x :\n",
    "        return 99999;\n",
    "    elif 'na' in x:\n",
    "        return -1\n",
    "    else:\n",
    "        d1 = datetime.strptime('20190327', \"%Y%m%d\")\n",
    "        d2 = datetime.strptime(x, \"%Y%m%d\")\n",
    "        return abs((d2 - d1).days)\n",
    "    \n",
    "train_big_table['remain_date'] = train_big_table['end_date'].apply(remain_date)\n",
    "test_big_table['remain_date'] = test_big_table['end_date'].apply(remain_date)"
   ]
  },
  {
   "cell_type": "code",
   "execution_count": 56,
   "metadata": {},
   "outputs": [],
   "source": [
    "def month_convert(x):\n",
    "    if  'N' in x:\n",
    "        return -1;\n",
    "    elif 'na' in x:\n",
    "        return -1\n",
    "    else:\n",
    "        if int(x[0:6])< 201804:\n",
    "            return '201804'\n",
    "        else:\n",
    "            return x[0:6]\n",
    "\n",
    "train_big_table['start_month'] = train_big_table['start_date'].apply(month_convert)\n",
    "test_big_table['start_month'] = test_big_table['start_date'].apply(month_convert)"
   ]
  },
  {
   "cell_type": "code",
   "execution_count": 57,
   "metadata": {},
   "outputs": [],
   "source": [
    "def extract_city(citys,index):\n",
    "    city_list = citys.split(\",\")\n",
    "    if index < len(city_list):\n",
    "        city = city_list[index]\n",
    "        if city != \"-\":\n",
    "            city = int(city)\n",
    "        else:\n",
    "            city = -1\n",
    "    else:\n",
    "        city = -1\n",
    "    return city\n",
    "\n",
    "def exp_in_desc(exp,desc):\n",
    "    if str(exp) == \"nan\":\n",
    "        exp = \"\"\n",
    "    exps = exp.split(\"|\")\n",
    "    num = 0\n",
    "    for item in exps:\n",
    "        if item in desc:\n",
    "            num+=1\n",
    "    return num"
   ]
  },
  {
   "cell_type": "code",
   "execution_count": 58,
   "metadata": {},
   "outputs": [],
   "source": [
    "min_year_dict = {\n",
    "    305: 4,\n",
    "    -1:-1,\n",
    "    1:1,\n",
    "    103:2,\n",
    "    0:0,\n",
    "    510:7,\n",
    "    1099:10,\n",
    "    399:4,\n",
    "    599:7,\n",
    "    199:1,\n",
    "    299:2,\n",
    "    110:1\n",
    "}\n",
    "degree_dict = {\n",
    "    \"初中\":1,\n",
    "    \"中技\":2,\n",
    "    \"高中\":3,\n",
    "    \"中专\":3,\n",
    "    \"大专\":4,\n",
    "    \"本科\":5,\n",
    "    \"硕士\":6,\n",
    "    \"博士\":7,\n",
    "    \"EMBA\":7,\n",
    "    \"MBA\":6,\n",
    "    \"其他\":0,\n",
    "    \"请选择\":0,\n",
    "    \"\\\\N\":0,\n",
    "    \"na\":0\n",
    "}\n",
    "min_salary_dict = {\n",
    "    100002000:1000,\n",
    "    400106000:4001,\n",
    "    0:0,\n",
    "    200104000:2001,\n",
    "    600108000:6001,\n",
    "    800110000:8001,\n",
    "    1000115000:10001,\n",
    "    2500199999:25001,\n",
    "    1500125000:15001,\n",
    "    3500150000:35001,\n",
    "    70001100000:70001,\n",
    "    1000:0,\n",
    "    100001150000:100001,\n",
    "    2500135000:25001,\n",
    "    5000170000:50001\n",
    "}\n",
    "max_salary_dict = {\n",
    "    100002000:2000,\n",
    "    400106000:6000,\n",
    "    0:0,\n",
    "    200104000:4000,\n",
    "    600108000:8000,\n",
    "    800110000:10000,\n",
    "    1000115000:15000,\n",
    "    2500199999:99999,\n",
    "    1500125000:25000,\n",
    "    3500150000:50000,\n",
    "    70001100000:100000,\n",
    "    1000:1000,\n",
    "    100001150000:150000,\n",
    "    2500135000:35000,\n",
    "    5000170000:70000\n",
    "}"
   ]
  },
  {
   "cell_type": "code",
   "execution_count": 59,
   "metadata": {},
   "outputs": [],
   "source": [
    "from functools import partial\n",
    "def fe(df):\n",
    "    df[\"desire_jd_city_1\"] = df[\"desire_jd_city_id\"].apply(partial(extract_city,index=0))\n",
    "    df[\"desire_jd_city_2\"] = df[\"desire_jd_city_id\"].apply(partial(extract_city,index=1))\n",
    "    df[\"desire_jd_city_3\"] = df[\"desire_jd_city_id\"].apply(partial(extract_city,index=2))\n",
    "    df[\"desire_jd_city_num\"] = df[[\"desire_jd_city_1\",\"desire_jd_city_2\",\"desire_jd_city_3\"]].sum(axis=1)\n",
    "    \n",
    "    df[\"city_equal_desired_city_1\"] = df[\"desire_jd_city_1\"]==df[\"city\"]\n",
    "    df[\"city_equal_desired_city_2\"] = df[\"desire_jd_city_2\"]==df[\"city\"]\n",
    "    df[\"city_equal_desired_city_3\"] = df[\"desire_jd_city_3\"]==df[\"city\"]\n",
    "    \n",
    "    df[\"work_years\"] = 2019-df[\"start_work_date\"].apply(lambda x : 2018 if x==\"-\" else int(x))\n",
    "    \n",
    "    \n",
    "    df[\"desire_min_salary\"] = df[\"desire_jd_salary_id\"].apply(lambda x: min_salary_dict[x])\n",
    "    df[\"desire_max_salary\"] = df[\"desire_jd_salary_id\"].apply(lambda x: max_salary_dict[x])\n",
    "    df[\"desire_salary_diff\"] = df[\"desire_max_salary\"]-df[\"desire_min_salary\"]\n",
    "    \n",
    "    df[\"min_years\"] = df[\"min_years\"].apply(lambda x: min_year_dict[x])\n",
    "    \n",
    "    df[\"work_years_statisfied\"] = df[\"work_years\"].astype(int) > df[\"min_years\"]\n",
    "    \n",
    "    df[\"salary_large_than_desire\"] = df[\"desire_min_salary\"] > df[\"min_salary\"]\n",
    "    \n",
    "    df[\"cur_salary_min\"] = df[\"cur_salary_id\"].apply(lambda x: min_salary_dict[int(x if str.isnumeric(x) else \"0\")])\n",
    "    df[\"cur_salary_max\"] = df[\"cur_salary_id\"].apply(lambda x: max_salary_dict[int(x if str.isnumeric(x) else \"0\")])\n",
    "    \n",
    "    df[\"salary_large_than_cur\"] = df[\"cur_salary_min\"] > df[\"min_salary\"]\n",
    "    \n",
    "    df[\"cur_degree_id\"] = df[\"cur_degree_id\"].fillna(\"na\").apply(lambda x:degree_dict[x.strip()])\n",
    "    \n",
    "    df[\"job_description_len\"] = df[\"job_description\"].apply(len)\n",
    "    \n",
    "    df[\"experience_num\"] = df[\"experience\"].apply(lambda x: len(str(x).split(\"|\")) if str(x) != \"nan\" else 0)\n",
    "    \n",
    "    df[\"min_edu_level\"] = df[\"min_edu_level\"].fillna(\"na\").apply(lambda x:degree_dict[x.strip()])\n",
    "    exp_in_desc_num = []\n",
    "    for idx, data in df.iterrows():\n",
    "        exp_in_desc_num.append(exp_in_desc(data[\"experience\"],data[\"job_description\"]))\n",
    "    df[\"exp_in_desc_num\"] = exp_in_desc_num\n",
    "    \n",
    "#     \"live_city_id\",\"desire_jd_salary_id\",\"cur_industry_id\",\"cur_jd_type\",\"cur_salary_id\",\n",
    "#          \"cur_degree_id\",\"city\",\"jd_sub_type\",\n",
    "#          \"max_salary\",\"min_salary\",\"is_travel\",\"min_years\",\"min_edu_level\",\n",
    "#          \"desire_jd_city_1\",\"desire_jd_city_2\",\"desire_jd_city_3\",\"work_years_statisfied\"\n",
    "#  \"jd_sub_browsed_dicret\",\"jd_sub_delivered_dicret\",\"jd_sub_satisfied_dicret\"  \n",
    "    cross_feature_tuple = [(\"live_city_id\",\"city\"),(\"live_city_id\",\"desire_jd_city_1\"),(\"cur_industry_id\",\"jd_sub_type\"),\n",
    "                          (\"cur_jd_type\",\"jd_sub_type\"),(\"cur_salary_id\",\"cur_degree_id\"),(\"city\",\"jd_sub_type\"),\n",
    "                          (\"jd_sub_type\",\"min_salary\"),(\"jd_sub_type\",\"max_salary\"),(\"jd_sub_type\",\"is_travel\"),\n",
    "                          (\"min_years\",\"jd_sub_type\"),(\"jd_sub_type\",\"require_nums\"),\n",
    "                          ]\n",
    "    cross_feature_names = list(feature[0]+\"&\"+feature[1] for feature in cross_feature_tuple)\n",
    "    print(\"create cross features\",cross_feature_names)\n",
    "    for idx,(fa,fb) in enumerate(cross_feature_tuple):\n",
    "        df[cross_feature_names[idx]] = df[fa].astype(str)+df[fb].astype(str)\n",
    "    return cross_feature_names"
   ]
  },
  {
   "cell_type": "code",
   "execution_count": 60,
   "metadata": {},
   "outputs": [
    {
     "ename": "KeyboardInterrupt",
     "evalue": "",
     "output_type": "error",
     "traceback": [
      "\u001b[0;31m---------------------------------------------------------------------------\u001b[0m",
      "\u001b[0;31mKeyboardInterrupt\u001b[0m                         Traceback (most recent call last)",
      "\u001b[0;32m<ipython-input-60-4f0cf2a2286e>\u001b[0m in \u001b[0;36m<module>\u001b[0;34m()\u001b[0m\n\u001b[0;32m----> 1\u001b[0;31m \u001b[0mcross_feature_names\u001b[0m \u001b[0;34m=\u001b[0m \u001b[0mfe\u001b[0m\u001b[0;34m(\u001b[0m\u001b[0mtrain_big_table\u001b[0m\u001b[0;34m)\u001b[0m\u001b[0;34m\u001b[0m\u001b[0m\n\u001b[0m\u001b[1;32m      2\u001b[0m \u001b[0mfe\u001b[0m\u001b[0;34m(\u001b[0m\u001b[0mtest_big_table\u001b[0m\u001b[0;34m)\u001b[0m\u001b[0;34m\u001b[0m\u001b[0m\n",
      "\u001b[0;32m<ipython-input-59-3bd22608076d>\u001b[0m in \u001b[0;36mfe\u001b[0;34m(df)\u001b[0m\n\u001b[1;32m     17\u001b[0m     \u001b[0mdf\u001b[0m\u001b[0;34m[\u001b[0m\u001b[0;34m\"desire_salary_diff\"\u001b[0m\u001b[0;34m]\u001b[0m \u001b[0;34m=\u001b[0m \u001b[0mdf\u001b[0m\u001b[0;34m[\u001b[0m\u001b[0;34m\"desire_max_salary\"\u001b[0m\u001b[0;34m]\u001b[0m\u001b[0;34m-\u001b[0m\u001b[0mdf\u001b[0m\u001b[0;34m[\u001b[0m\u001b[0;34m\"desire_min_salary\"\u001b[0m\u001b[0;34m]\u001b[0m\u001b[0;34m\u001b[0m\u001b[0m\n\u001b[1;32m     18\u001b[0m \u001b[0;34m\u001b[0m\u001b[0m\n\u001b[0;32m---> 19\u001b[0;31m     \u001b[0mdf\u001b[0m\u001b[0;34m[\u001b[0m\u001b[0;34m\"min_years\"\u001b[0m\u001b[0;34m]\u001b[0m \u001b[0;34m=\u001b[0m \u001b[0mdf\u001b[0m\u001b[0;34m[\u001b[0m\u001b[0;34m\"min_years\"\u001b[0m\u001b[0;34m]\u001b[0m\u001b[0;34m.\u001b[0m\u001b[0mapply\u001b[0m\u001b[0;34m(\u001b[0m\u001b[0;32mlambda\u001b[0m \u001b[0mx\u001b[0m\u001b[0;34m:\u001b[0m \u001b[0mmin_year_dict\u001b[0m\u001b[0;34m[\u001b[0m\u001b[0mx\u001b[0m\u001b[0;34m]\u001b[0m\u001b[0;34m)\u001b[0m\u001b[0;34m\u001b[0m\u001b[0m\n\u001b[0m\u001b[1;32m     20\u001b[0m \u001b[0;34m\u001b[0m\u001b[0m\n\u001b[1;32m     21\u001b[0m     \u001b[0mdf\u001b[0m\u001b[0;34m[\u001b[0m\u001b[0;34m\"work_years_statisfied\"\u001b[0m\u001b[0;34m]\u001b[0m \u001b[0;34m=\u001b[0m \u001b[0mdf\u001b[0m\u001b[0;34m[\u001b[0m\u001b[0;34m\"work_years\"\u001b[0m\u001b[0;34m]\u001b[0m\u001b[0;34m.\u001b[0m\u001b[0mastype\u001b[0m\u001b[0;34m(\u001b[0m\u001b[0mint\u001b[0m\u001b[0;34m)\u001b[0m \u001b[0;34m>\u001b[0m \u001b[0mdf\u001b[0m\u001b[0;34m[\u001b[0m\u001b[0;34m\"min_years\"\u001b[0m\u001b[0;34m]\u001b[0m\u001b[0;34m\u001b[0m\u001b[0m\n",
      "\u001b[0;31mKeyboardInterrupt\u001b[0m: "
     ]
    }
   ],
   "source": [
    "cross_feature_names = fe(train_big_table)\n",
    "fe(test_big_table)"
   ]
  },
  {
   "cell_type": "code",
   "execution_count": 16,
   "metadata": {},
   "outputs": [
    {
     "name": "stderr",
     "output_type": "stream",
     "text": [
      "/home/ubuntu/anaconda3/envs/tensorflow_p36/lib/python3.6/site-packages/ipykernel/__main__.py:1: FutureWarning: Sorting because non-concatenation axis is not aligned. A future version\n",
      "of pandas will change to not sort by default.\n",
      "\n",
      "To accept the future behavior, pass 'sort=False'.\n",
      "\n",
      "To retain the current behavior and silence the warning, pass 'sort=True'.\n",
      "\n",
      "  if __name__ == '__main__':\n"
     ]
    }
   ],
   "source": [
    "all_big_table = pd.concat([train_big_table,test_big_table])"
   ]
  },
  {
   "cell_type": "code",
   "execution_count": 14,
   "metadata": {},
   "outputs": [],
   "source": [
    "from sklearn.preprocessing import LabelEncoder\n",
    "from tqdm import tqdm as tqdm\n",
    "import lightgbm as lgb"
   ]
  },
  {
   "cell_type": "code",
   "execution_count": 15,
   "metadata": {},
   "outputs": [],
   "source": [
    "def encode_target_smooth(data, target, categ_variables, smooth):\n",
    "\n",
    "    train_target = data.copy()\n",
    "    code_map = dict()    # stores mapping between original and encoded values\n",
    "    default_map = dict() # stores global average of each variable\n",
    "    \n",
    "    for v in categ_variables:\n",
    "        prior = data[target].mean()\n",
    "        n = data.groupby(v).size()\n",
    "        mu = data.groupby(v)[target].mean()\n",
    "        mu_smoothed = (n * mu + smooth * prior) / (n + smooth)\n",
    "        \n",
    "        train_target.loc[:, v] = train_target[v].map(mu_smoothed)        \n",
    "        code_map[v] = mu_smoothed\n",
    "        default_map[v] = prior        \n",
    "    return train_target, code_map, default_map"
   ]
  },
  {
   "cell_type": "code",
   "execution_count": 41,
   "metadata": {},
   "outputs": [],
   "source": [
    "#X_train, X_valid = train_test_split(train_big_table, test_size=0.2, random_state=42)\n",
    "cat_vars=[\"jd_sub_type\",\"desire_jd_type_id\"]\n",
    "train_target_smooth, target_map, default_map = encode_target_smooth(train_big_table, 'mix_sat', cat_vars, 300)\n",
    "test_target_smooth = test_big_table.copy()\n",
    "for v in cat_vars:\n",
    "    test_target_smooth.loc[:, v] = test_target_smooth[v].map(target_map[v])\n",
    "test_big_table[[\"jd_sub_encode\",\"desire_jd_encode\"]] = test_target_smooth[[\"jd_sub_type\",\"desire_jd_type_id\"]]"
   ]
  },
  {
   "cell_type": "code",
   "execution_count": 46,
   "metadata": {},
   "outputs": [],
   "source": [
    "def feature_select(target,*df_list):\n",
    "    result = []\n",
    "    cat_features = [\"live_city_id\",\"desire_jd_salary_id\",\"cur_industry_id\",\"cur_jd_type\",\"cur_salary_id\",\n",
    "         \"cur_degree_id\",\"city\",\"jd_sub_type\",\"start_month\",\n",
    "         \"max_salary\",\"min_salary\",\"is_travel\",\"min_years\",\"min_edu_level\",\n",
    "         \"desire_jd_city_1\",\"desire_jd_city_2\",\"desire_jd_city_3\",\"work_years_statisfied\"]+cross_feature_names\n",
    "    lbl_dict = {}\n",
    "    for f in cat_features:\n",
    "        lbl = LabelEncoder()\n",
    "        lbl.fit(all_big_table[f].astype(str))\n",
    "        lbl_dict[f] = lbl\n",
    "    for df in df_list:\n",
    "        features = [\"live_city_id\",\"desire_jd_salary_id\",\"cur_industry_id\",\"cur_jd_type\",\"cur_salary_id\",\n",
    "             \"cur_degree_id\",\"birthday\",\"city\",\"jd_sub_type\",\"require_nums\",\"jd_sub_encode\",\n",
    "                    \"start_month\",\"desire_jd_encode\",\n",
    "             \"max_salary\",\"min_salary\",\"is_travel\",\"min_years\",\"min_edu_level\",\n",
    "             \"desire_jd_city_1\",\"desire_jd_city_2\",\"desire_jd_city_3\",\"exp_in_desc_num\",\n",
    "                   \"desire_min_salary\",\"desire_max_salary\",\"salary_large_than_desire\",\"cur_salary_min\",\n",
    "                   \"cur_salary_max\",\"salary_large_than_cur\",\"job_description_len\",\"experience_num\",\"work_years_statisfied\",\"work_years\",\"desire_jd_city_num\",\"desire_salary_diff\"]+cross_feature_names\n",
    "\n",
    "        x = df[features]\n",
    "        if target in df.columns:\n",
    "            y = df[target]\n",
    "        else:\n",
    "            y = None\n",
    "        for f in cat_features:\n",
    "            lbl = lbl_dict[f]\n",
    "            x[f] = lbl.transform(x[f].astype(str))\n",
    "        result.append((x,y))\n",
    "    return result\n"
   ]
  },
  {
   "cell_type": "code",
   "execution_count": 47,
   "metadata": {},
   "outputs": [],
   "source": [
    "from sklearn.model_selection import KFold\n",
    "\n",
    "def cross_validate(param=dict(n_estimators=1000,metric=\"map\",colsample_bytree=0.2,max_depth=7,importance_type=\"gain\",device=\"gpu\",gpu_platform_id=0,gpu_device_id=0)\n",
    "                   ,n_folds=5,target=\"mix_sat\"):\n",
    "    train_users = train_big_table[\"user_id\"].unique()\n",
    "    folds = KFold(n_folds,shuffle=True,random_state=42)\n",
    "    models = []\n",
    "    test_pred = np.zeros(test_big_table.shape[0])\n",
    "    scores = []\n",
    "    for idx,(train_idx,valid_idx) in enumerate(folds.split(train_users)):\n",
    "        t_user = train_users[train_idx]\n",
    "        v_user = train_users[valid_idx]\n",
    "        train_data = train_big_table[train_big_table[\"user_id\"].isin(t_user)]\n",
    "        valid_data = train_big_table[train_big_table[\"user_id\"].isin(v_user)]\n",
    "        train_group = train_data.groupby(\"user_id\",as_index=False).count()[\"mix_sat\"].values\n",
    "        valid_group = valid_data.groupby(\"user_id\",as_index=False).count()[\"mix_sat\"].values\n",
    "        test_group = test_big_table.groupby(\"user_id\",as_index=False).count()[\"jd_no\"].values\n",
    "        \n",
    "        cat_vars=[\"jd_sub_type\",\"desire_jd_type_id\"]\n",
    "        train_target_smooth, target_map, default_map = encode_target_smooth(train_data, 'mix_sat', cat_vars, 300)\n",
    "        test_target_smooth = valid_data.copy()\n",
    "        for v in cat_vars:\n",
    "            test_target_smooth.loc[:, v] = test_target_smooth[v].map(target_map[v])\n",
    "        train_data[[\"jd_sub_encode\",\"desire_jd_encode\"]] = train_target_smooth[[\"jd_sub_type\",\"desire_jd_type_id\"]]\n",
    "        valid_data[[\"jd_sub_encode\",\"desire_jd_encode\"]] = test_target_smooth[[\"jd_sub_type\",\"desire_jd_type_id\"]]\n",
    "        \n",
    "        result = feature_select(target,train_data,valid_data,test_big_table)\n",
    "        t_x,t_y = result[0]\n",
    "        v_x,v_y = result[1]\n",
    "        test_x,_ = result[2]\n",
    "        model = lgb.LGBMRanker(**param)\n",
    "        print(\"Fold\",idx,\"-\"*30)\n",
    "        model.fit(t_x,t_y,group=train_group,eval_set=[(t_x,t_y),(v_x,v_y)],eval_group=[train_group,valid_group],early_stopping_rounds=100,verbose=10,\n",
    "                  callbacks=[lgb.reset_parameter(learning_rate=lambda x: 0.03)]\n",
    "                 )\n",
    "        models.append(model)\n",
    "        test_pred += model.predict(test_x)/n_folds\n",
    "        scores.append(model.best_score_[\"valid_1\"][\"map@1\"])\n",
    "    print(\"mean score\",np.mean(scores))\n",
    "    return models,test_pred"
   ]
  },
  {
   "cell_type": "code",
   "execution_count": 48,
   "metadata": {},
   "outputs": [
    {
     "data": {
      "text/plain": [
       "(506175, 68)"
      ]
     },
     "execution_count": 48,
     "metadata": {},
     "output_type": "execute_result"
    }
   ],
   "source": [
    "train_big_table.shape"
   ]
  },
  {
   "cell_type": "code",
   "execution_count": 49,
   "metadata": {},
   "outputs": [
    {
     "name": "stderr",
     "output_type": "stream",
     "text": [
      "/home/ubuntu/anaconda3/envs/tensorflow_p36/lib/python3.6/site-packages/pandas/core/frame.py:3391: SettingWithCopyWarning: \n",
      "A value is trying to be set on a copy of a slice from a DataFrame.\n",
      "Try using .loc[row_indexer,col_indexer] = value instead\n",
      "\n",
      "See the caveats in the documentation: http://pandas.pydata.org/pandas-docs/stable/indexing.html#indexing-view-versus-copy\n",
      "  self[k1] = value[k2]\n",
      "/home/ubuntu/anaconda3/envs/tensorflow_p36/lib/python3.6/site-packages/ipykernel/__main__.py:28: SettingWithCopyWarning: \n",
      "A value is trying to be set on a copy of a slice from a DataFrame.\n",
      "Try using .loc[row_indexer,col_indexer] = value instead\n",
      "\n",
      "See the caveats in the documentation: http://pandas.pydata.org/pandas-docs/stable/indexing.html#indexing-view-versus-copy\n"
     ]
    },
    {
     "name": "stdout",
     "output_type": "stream",
     "text": [
      "Fold 0 ------------------------------\n",
      "Training until validation scores don't improve for 100 rounds.\n",
      "[10]\ttraining's map@1: 0.303671\tvalid_1's map@1: 0.173526\n",
      "[20]\ttraining's map@1: 0.318966\tvalid_1's map@1: 0.167964\n",
      "[30]\ttraining's map@1: 0.324249\tvalid_1's map@1: 0.174638\n",
      "[40]\ttraining's map@1: 0.32703\tvalid_1's map@1: 0.176863\n",
      "[50]\ttraining's map@1: 0.328699\tvalid_1's map@1: 0.176863\n",
      "[60]\ttraining's map@1: 0.336485\tvalid_1's map@1: 0.172414\n",
      "[70]\ttraining's map@1: 0.338154\tvalid_1's map@1: 0.173526\n",
      "[80]\ttraining's map@1: 0.340656\tvalid_1's map@1: 0.179088\n",
      "[90]\ttraining's map@1: 0.344828\tvalid_1's map@1: 0.177976\n",
      "[100]\ttraining's map@1: 0.348165\tvalid_1's map@1: 0.176863\n",
      "[110]\ttraining's map@1: 0.35317\tvalid_1's map@1: 0.175751\n",
      "[120]\ttraining's map@1: 0.358176\tvalid_1's map@1: 0.179088\n",
      "[130]\ttraining's map@1: 0.362069\tvalid_1's map@1: 0.175751\n",
      "[140]\ttraining's map@1: 0.362347\tvalid_1's map@1: 0.179088\n"
     ]
    },
    {
     "ename": "KeyboardInterrupt",
     "evalue": "",
     "output_type": "error",
     "traceback": [
      "\u001b[0;31m---------------------------------------------------------------------------\u001b[0m",
      "\u001b[0;31mKeyboardInterrupt\u001b[0m                         Traceback (most recent call last)",
      "\u001b[0;32m<ipython-input-49-8650f3eb3f50>\u001b[0m in \u001b[0;36m<module>\u001b[0;34m()\u001b[0m\n\u001b[0;32m----> 1\u001b[0;31m \u001b[0mmodels\u001b[0m\u001b[0;34m,\u001b[0m\u001b[0mpred\u001b[0m \u001b[0;34m=\u001b[0m \u001b[0mcross_validate\u001b[0m\u001b[0;34m(\u001b[0m\u001b[0mtarget\u001b[0m\u001b[0;34m=\u001b[0m\u001b[0;34m\"mix_sat\"\u001b[0m\u001b[0;34m,\u001b[0m\u001b[0mparam\u001b[0m\u001b[0;34m=\u001b[0m\u001b[0mdict\u001b[0m\u001b[0;34m(\u001b[0m\u001b[0mn_estimators\u001b[0m\u001b[0;34m=\u001b[0m\u001b[0;36m1000\u001b[0m\u001b[0;34m,\u001b[0m\u001b[0mmetric\u001b[0m\u001b[0;34m=\u001b[0m\u001b[0;34m\"map\"\u001b[0m\u001b[0;34m,\u001b[0m\u001b[0msubsample\u001b[0m\u001b[0;34m=\u001b[0m\u001b[0;36m0.6\u001b[0m\u001b[0;34m,\u001b[0m\u001b[0mmin_split_gain\u001b[0m\u001b[0;34m=\u001b[0m\u001b[0;36m10\u001b[0m\u001b[0;34m,\u001b[0m\u001b[0mcolsample_bytree\u001b[0m\u001b[0;34m=\u001b[0m\u001b[0;36m0.6\u001b[0m\u001b[0;34m,\u001b[0m\u001b[0mmax_depth\u001b[0m\u001b[0;34m=\u001b[0m\u001b[0;36m7\u001b[0m\u001b[0;34m,\u001b[0m\u001b[0mimportance_type\u001b[0m\u001b[0;34m=\u001b[0m\u001b[0;34m\"gain\"\u001b[0m\u001b[0;34m,\u001b[0m\u001b[0mdevice\u001b[0m\u001b[0;34m=\u001b[0m\u001b[0;34m\"gpu\"\u001b[0m\u001b[0;34m,\u001b[0m\u001b[0mgpu_platform_id\u001b[0m\u001b[0;34m=\u001b[0m\u001b[0;36m0\u001b[0m\u001b[0;34m,\u001b[0m\u001b[0mgpu_device_id\u001b[0m\u001b[0;34m=\u001b[0m\u001b[0;36m0\u001b[0m\u001b[0;34m)\u001b[0m\u001b[0;34m,\u001b[0m\u001b[0mn_folds\u001b[0m\u001b[0;34m=\u001b[0m\u001b[0;36m5\u001b[0m\u001b[0;34m)\u001b[0m\u001b[0;34m\u001b[0m\u001b[0m\n\u001b[0m",
      "\u001b[0;32m<ipython-input-47-da0b7b4f13b0>\u001b[0m in \u001b[0;36mcross_validate\u001b[0;34m(param, n_folds, target)\u001b[0m\n\u001b[1;32m     32\u001b[0m         \u001b[0mprint\u001b[0m\u001b[0;34m(\u001b[0m\u001b[0;34m\"Fold\"\u001b[0m\u001b[0;34m,\u001b[0m\u001b[0midx\u001b[0m\u001b[0;34m,\u001b[0m\u001b[0;34m\"-\"\u001b[0m\u001b[0;34m*\u001b[0m\u001b[0;36m30\u001b[0m\u001b[0;34m)\u001b[0m\u001b[0;34m\u001b[0m\u001b[0m\n\u001b[1;32m     33\u001b[0m         model.fit(t_x,t_y,group=train_group,eval_set=[(t_x,t_y),(v_x,v_y)],eval_group=[train_group,valid_group],early_stopping_rounds=100,verbose=10,\n\u001b[0;32m---> 34\u001b[0;31m                   \u001b[0mcallbacks\u001b[0m\u001b[0;34m=\u001b[0m\u001b[0;34m[\u001b[0m\u001b[0mlgb\u001b[0m\u001b[0;34m.\u001b[0m\u001b[0mreset_parameter\u001b[0m\u001b[0;34m(\u001b[0m\u001b[0mlearning_rate\u001b[0m\u001b[0;34m=\u001b[0m\u001b[0;32mlambda\u001b[0m \u001b[0mx\u001b[0m\u001b[0;34m:\u001b[0m \u001b[0;36m0.03\u001b[0m\u001b[0;34m)\u001b[0m\u001b[0;34m]\u001b[0m\u001b[0;34m\u001b[0m\u001b[0m\n\u001b[0m\u001b[1;32m     35\u001b[0m                  )\n\u001b[1;32m     36\u001b[0m         \u001b[0mmodels\u001b[0m\u001b[0;34m.\u001b[0m\u001b[0mappend\u001b[0m\u001b[0;34m(\u001b[0m\u001b[0mmodel\u001b[0m\u001b[0;34m)\u001b[0m\u001b[0;34m\u001b[0m\u001b[0m\n",
      "\u001b[0;32m~/anaconda3/envs/tensorflow_p36/lib/python3.6/site-packages/lightgbm/sklearn.py\u001b[0m in \u001b[0;36mfit\u001b[0;34m(self, X, y, sample_weight, init_score, group, eval_set, eval_names, eval_sample_weight, eval_init_score, eval_group, eval_metric, eval_at, early_stopping_rounds, verbose, feature_name, categorical_feature, callbacks)\u001b[0m\n\u001b[1;32m    855\u001b[0m                                     \u001b[0mverbose\u001b[0m\u001b[0;34m=\u001b[0m\u001b[0mverbose\u001b[0m\u001b[0;34m,\u001b[0m \u001b[0mfeature_name\u001b[0m\u001b[0;34m=\u001b[0m\u001b[0mfeature_name\u001b[0m\u001b[0;34m,\u001b[0m\u001b[0;34m\u001b[0m\u001b[0m\n\u001b[1;32m    856\u001b[0m                                     \u001b[0mcategorical_feature\u001b[0m\u001b[0;34m=\u001b[0m\u001b[0mcategorical_feature\u001b[0m\u001b[0;34m,\u001b[0m\u001b[0;34m\u001b[0m\u001b[0m\n\u001b[0;32m--> 857\u001b[0;31m                                     callbacks=callbacks)\n\u001b[0m\u001b[1;32m    858\u001b[0m         \u001b[0;32mreturn\u001b[0m \u001b[0mself\u001b[0m\u001b[0;34m\u001b[0m\u001b[0m\n\u001b[1;32m    859\u001b[0m \u001b[0;34m\u001b[0m\u001b[0m\n",
      "\u001b[0;32m~/anaconda3/envs/tensorflow_p36/lib/python3.6/site-packages/lightgbm/sklearn.py\u001b[0m in \u001b[0;36mfit\u001b[0;34m(self, X, y, sample_weight, init_score, group, eval_set, eval_names, eval_sample_weight, eval_class_weight, eval_init_score, eval_group, eval_metric, early_stopping_rounds, verbose, feature_name, categorical_feature, callbacks)\u001b[0m\n\u001b[1;32m    542\u001b[0m                               \u001b[0mverbose_eval\u001b[0m\u001b[0;34m=\u001b[0m\u001b[0mverbose\u001b[0m\u001b[0;34m,\u001b[0m \u001b[0mfeature_name\u001b[0m\u001b[0;34m=\u001b[0m\u001b[0mfeature_name\u001b[0m\u001b[0;34m,\u001b[0m\u001b[0;34m\u001b[0m\u001b[0m\n\u001b[1;32m    543\u001b[0m                               \u001b[0mcategorical_feature\u001b[0m\u001b[0;34m=\u001b[0m\u001b[0mcategorical_feature\u001b[0m\u001b[0;34m,\u001b[0m\u001b[0;34m\u001b[0m\u001b[0m\n\u001b[0;32m--> 544\u001b[0;31m                               callbacks=callbacks)\n\u001b[0m\u001b[1;32m    545\u001b[0m \u001b[0;34m\u001b[0m\u001b[0m\n\u001b[1;32m    546\u001b[0m         \u001b[0;32mif\u001b[0m \u001b[0mevals_result\u001b[0m\u001b[0;34m:\u001b[0m\u001b[0;34m\u001b[0m\u001b[0m\n",
      "\u001b[0;32m~/anaconda3/envs/tensorflow_p36/lib/python3.6/site-packages/lightgbm/engine.py\u001b[0m in \u001b[0;36mtrain\u001b[0;34m(params, train_set, num_boost_round, valid_sets, valid_names, fobj, feval, init_model, feature_name, categorical_feature, early_stopping_rounds, evals_result, verbose_eval, learning_rates, keep_training_booster, callbacks)\u001b[0m\n\u001b[1;32m    216\u001b[0m                                     evaluation_result_list=None))\n\u001b[1;32m    217\u001b[0m \u001b[0;34m\u001b[0m\u001b[0m\n\u001b[0;32m--> 218\u001b[0;31m         \u001b[0mbooster\u001b[0m\u001b[0;34m.\u001b[0m\u001b[0mupdate\u001b[0m\u001b[0;34m(\u001b[0m\u001b[0mfobj\u001b[0m\u001b[0;34m=\u001b[0m\u001b[0mfobj\u001b[0m\u001b[0;34m)\u001b[0m\u001b[0;34m\u001b[0m\u001b[0m\n\u001b[0m\u001b[1;32m    219\u001b[0m \u001b[0;34m\u001b[0m\u001b[0m\n\u001b[1;32m    220\u001b[0m         \u001b[0mevaluation_result_list\u001b[0m \u001b[0;34m=\u001b[0m \u001b[0;34m[\u001b[0m\u001b[0;34m]\u001b[0m\u001b[0;34m\u001b[0m\u001b[0m\n",
      "\u001b[0;32m~/anaconda3/envs/tensorflow_p36/lib/python3.6/site-packages/lightgbm/basic.py\u001b[0m in \u001b[0;36mupdate\u001b[0;34m(self, train_set, fobj)\u001b[0m\n\u001b[1;32m   1800\u001b[0m             _safe_call(_LIB.LGBM_BoosterUpdateOneIter(\n\u001b[1;32m   1801\u001b[0m                 \u001b[0mself\u001b[0m\u001b[0;34m.\u001b[0m\u001b[0mhandle\u001b[0m\u001b[0;34m,\u001b[0m\u001b[0;34m\u001b[0m\u001b[0m\n\u001b[0;32m-> 1802\u001b[0;31m                 ctypes.byref(is_finished)))\n\u001b[0m\u001b[1;32m   1803\u001b[0m             \u001b[0mself\u001b[0m\u001b[0;34m.\u001b[0m\u001b[0m__is_predicted_cur_iter\u001b[0m \u001b[0;34m=\u001b[0m \u001b[0;34m[\u001b[0m\u001b[0;32mFalse\u001b[0m \u001b[0;32mfor\u001b[0m \u001b[0m_\u001b[0m \u001b[0;32min\u001b[0m \u001b[0mrange_\u001b[0m\u001b[0;34m(\u001b[0m\u001b[0mself\u001b[0m\u001b[0;34m.\u001b[0m\u001b[0m__num_dataset\u001b[0m\u001b[0;34m)\u001b[0m\u001b[0;34m]\u001b[0m\u001b[0;34m\u001b[0m\u001b[0m\n\u001b[1;32m   1804\u001b[0m             \u001b[0;32mreturn\u001b[0m \u001b[0mis_finished\u001b[0m\u001b[0;34m.\u001b[0m\u001b[0mvalue\u001b[0m \u001b[0;34m==\u001b[0m \u001b[0;36m1\u001b[0m\u001b[0;34m\u001b[0m\u001b[0m\n",
      "\u001b[0;31mKeyboardInterrupt\u001b[0m: "
     ]
    }
   ],
   "source": [
    "models,pred = cross_validate(target=\"mix_sat\",param=dict(n_estimators=1000,metric=\"map\",subsample=0.6,min_split_gain=10,colsample_bytree=0.6,max_depth=7,importance_type=\"gain\",device=\"gpu\",gpu_platform_id=0,gpu_device_id=0),n_folds=5)"
   ]
  },
  {
   "cell_type": "code",
   "execution_count": 26,
   "metadata": {},
   "outputs": [
    {
     "data": {
      "image/png": "[encoded data removed]",
      "text/plain": [
       "<Figure size 1152x864 with 1 Axes>"
      ]
     },
     "metadata": {},
     "output_type": "display_data"
    }
   ],
   "source": [
    "import matplotlib.pyplot as plt\n",
    "import seaborn as sns\n",
    "\n",
    "feature_importance = pd.DataFrame()\n",
    "for idx,model in enumerate(models):\n",
    "    fold_importance = pd.DataFrame()\n",
    "    fold_importance[\"feature\"] =[\"live_city_id\",\"desire_jd_salary_id\",\"cur_industry_id\",\"cur_jd_type\",\"cur_salary_id\",\n",
    "             \"cur_degree_id\",\"birthday\",\"city\",\"jd_sub_type\",\"require_nums\",\"jd_sub_encode\",\"cur_jd_encode\",\n",
    "                    \"start_month\",\n",
    "             \"max_salary\",\"min_salary\",\"is_travel\",\"min_years\",\"min_edu_level\",\n",
    "             \"desire_jd_city_1\",\"desire_jd_city_2\",\"desire_jd_city_3\",\"exp_in_desc_num\",\n",
    "                   \"desire_min_salary\",\"desire_max_salary\",\"salary_large_than_desire\",\"cur_salary_min\",\n",
    "                   \"cur_salary_max\",\"salary_large_than_cur\",\"job_description_len\",\"experience_num\",\"work_years_statisfied\",\"work_years\",\"desire_jd_city_num\",\"desire_salary_diff\"]+cross_feature_names\n",
    "\n",
    "    fold_importance[\"importance\"] = model.feature_importances_\n",
    "    fold_importance[\"fold\"] = idx\n",
    "    feature_importance = pd.concat([feature_importance,fold_importance])\n",
    "plt.figure(figsize=(16, 12));\n",
    "sns.barplot(x=\"importance\", y=\"feature\", data=feature_importance.sort_values(by=\"importance\", ascending=False));\n",
    "plt.title('mix_satsatisfied LGB Features (avg over folds)');"
   ]
  },
  {
   "cell_type": "code",
   "execution_count": null,
   "metadata": {},
   "outputs": [],
   "source": []
  },
  {
   "cell_type": "code",
   "execution_count": 82,
   "metadata": {},
   "outputs": [
    {
     "data": {
      "text/html": [
       "<div>\n",
       "<style scoped>\n",
       "    .dataframe tbody tr th:only-of-type {\n",
       "        vertical-align: middle;\n",
       "    }\n",
       "\n",
       "    .dataframe tbody tr th {\n",
       "        vertical-align: top;\n",
       "    }\n",
       "\n",
       "    .dataframe thead th {\n",
       "        text-align: right;\n",
       "    }\n",
       "</style>\n",
       "<table border=\"1\" class=\"dataframe\">\n",
       "  <thead>\n",
       "    <tr style=\"text-align: right;\">\n",
       "      <th></th>\n",
       "      <th>user_id</th>\n",
       "      <th>jd_no</th>\n",
       "    </tr>\n",
       "  </thead>\n",
       "  <tbody>\n",
       "    <tr>\n",
       "      <th>0</th>\n",
       "      <td>167827d429af352a93b28666c33ed0fd</td>\n",
       "      <td>6855780caa3e8b4c6c65adfacdda5282</td>\n",
       "    </tr>\n",
       "    <tr>\n",
       "      <th>1</th>\n",
       "      <td>167827d429af352a93b28666c33ed0fd</td>\n",
       "      <td>20603e8eec8f4fbab757ad70e86fdec2</td>\n",
       "    </tr>\n",
       "    <tr>\n",
       "      <th>2</th>\n",
       "      <td>167827d429af352a93b28666c33ed0fd</td>\n",
       "      <td>b612c4ec69756fe4944071cb0525ef8d</td>\n",
       "    </tr>\n",
       "    <tr>\n",
       "      <th>3</th>\n",
       "      <td>167827d429af352a93b28666c33ed0fd</td>\n",
       "      <td>0558a2371bbfa13eb9295f8011eeb997</td>\n",
       "    </tr>\n",
       "    <tr>\n",
       "      <th>4</th>\n",
       "      <td>167827d429af352a93b28666c33ed0fd</td>\n",
       "      <td>fde5a7db457d1123f56be0e295576c0c</td>\n",
       "    </tr>\n",
       "  </tbody>\n",
       "</table>\n",
       "</div>"
      ],
      "text/plain": [
       "                            user_id                             jd_no\n",
       "0  167827d429af352a93b28666c33ed0fd  6855780caa3e8b4c6c65adfacdda5282\n",
       "1  167827d429af352a93b28666c33ed0fd  20603e8eec8f4fbab757ad70e86fdec2\n",
       "2  167827d429af352a93b28666c33ed0fd  b612c4ec69756fe4944071cb0525ef8d\n",
       "3  167827d429af352a93b28666c33ed0fd  0558a2371bbfa13eb9295f8011eeb997\n",
       "4  167827d429af352a93b28666c33ed0fd  fde5a7db457d1123f56be0e295576c0c"
      ]
     },
     "execution_count": 82,
     "metadata": {},
     "output_type": "execute_result"
    }
   ],
   "source": [
    "test_action = pd.read_csv(\"data/zhaopin_round1_user_exposure_B_20190819\",delim_whitespace=True)\n",
    "test_action.head()"
   ]
  },
  {
   "cell_type": "code",
   "execution_count": 83,
   "metadata": {},
   "outputs": [
    {
     "name": "stderr",
     "output_type": "stream",
     "text": [
      "/home/ubuntu/anaconda3/envs/tensorflow_p36/lib/python3.6/site-packages/ipykernel/__main__.py:2: SettingWithCopyWarning: \n",
      "A value is trying to be set on a copy of a slice from a DataFrame.\n",
      "Try using .loc[row_indexer,col_indexer] = value instead\n",
      "\n",
      "See the caveats in the documentation: http://pandas.pydata.org/pandas-docs/stable/indexing.html#indexing-view-versus-copy\n",
      "  from ipykernel import kernelapp as app\n"
     ]
    }
   ],
   "source": [
    "submit = test_big_table[[\"user_id\",\"jd_no\"]]\n",
    "submit[\"score\"] = pred\n",
    "submit = submit.reset_index(drop=True)\n",
    "result = pd.merge(test_action,submit,how=\"left\",on=[\"user_id\",\"jd_no\"])\n",
    "result.fillna(-100,inplace=True)\n",
    "result = result.groupby(\"user_id\",as_index=False).apply(lambda x:x.sort_values(\"score\",ascending=False))\n",
    "result[[\"user_id\",\"jd_no\",\"score\"]].to_csv(\"submission2.csv\",index=False)"
   ]
  },
  {
   "cell_type": "code",
   "execution_count": 84,
   "metadata": {},
   "outputs": [
    {
     "name": "stderr",
     "output_type": "stream",
     "text": [
      "/home/ubuntu/anaconda3/envs/tensorflow_p36/lib/python3.6/site-packages/ipykernel/__main__.py:2: SettingWithCopyWarning: \n",
      "A value is trying to be set on a copy of a slice from a DataFrame.\n",
      "Try using .loc[row_indexer,col_indexer] = value instead\n",
      "\n",
      "See the caveats in the documentation: http://pandas.pydata.org/pandas-docs/stable/indexing.html#indexing-view-versus-copy\n",
      "  from ipykernel import kernelapp as app\n"
     ]
    }
   ],
   "source": [
    "submit = test_big_table[[\"user_id\",\"jd_no\"]]\n",
    "submit[\"score\"] = pred\n",
    "submit = submit.reset_index(drop=True)\n",
    "result = pd.merge(test_action,submit,how=\"left\",on=[\"user_id\",\"jd_no\"])\n",
    "result.fillna(-100,inplace=True)\n",
    "result = result.groupby(\"user_id\",as_index=False).apply(lambda x:x.sort_values(\"score\",ascending=False))\n",
    "# 需要对结果进行去重\n",
    "result[[\"user_id\",\"jd_no\",\"score\"]].drop_duplicates().to_csv(\"submission2.csv\",index=False)"
   ]
  },
  {
   "cell_type": "code",
   "execution_count": 85,
   "metadata": {},
   "outputs": [
    {
     "data": {
      "text/plain": [
       "(29674, 3)"
      ]
     },
     "execution_count": 85,
     "metadata": {},
     "output_type": "execute_result"
    }
   ],
   "source": [
    "result[[\"user_id\",\"jd_no\",\"score\"]].drop_duplicates().shape"
   ]
  },
  {
   "cell_type": "code",
   "execution_count": null,
   "metadata": {},
   "outputs": [],
   "source": [
    "#work_years_statisfied=1\n",
    "#is_edu_ok？ 1\n",
    "#year&is_city_eq "
   ]
  }
 ],
 "metadata": {
  "kernelspec": {
   "display_name": "Environment (conda_tensorflow_p36)",
   "language": "python",
   "name": "conda_tensorflow_p36"
  },
  "language_info": {
   "codemirror_mode": {
    "name": "ipython",
    "version": 3
   },
   "file_extension": ".py",
   "mimetype": "text/x-python",
   "name": "python",
   "nbconvert_exporter": "python",
   "pygments_lexer": "ipython3",
   "version": "3.6.5"
  }
 },
 "nbformat": 4,
 "nbformat_minor": 2
}
