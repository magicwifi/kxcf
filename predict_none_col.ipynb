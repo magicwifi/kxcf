{
 "cells": [
  {
   "cell_type": "code",
   "execution_count": 1,
   "metadata": {},
   "outputs": [],
   "source": [
    "# coding:utf-8\n",
    "\n",
    "import numpy as np\n",
    "import pandas as pd\n",
    "from pandas import Series, DataFrame\n",
    "\n",
    "import matplotlib.pyplot as plt\n",
    "\n",
    "from sklearn.model_selection import train_test_split\n",
    "\n",
    "\n",
    "%matplotlib inline"
   ]
  },
  {
   "cell_type": "code",
   "execution_count": 2,
   "metadata": {},
   "outputs": [
    {
     "name": "stderr",
     "output_type": "stream",
     "text": [
      "b'Skipping line 173315: expected 18 fields, saw 20\\n'\n",
      "/home/ubuntu/anaconda3/envs/tensorflow_p36/lib/python3.6/site-packages/IPython/core/interactiveshell.py:2785: DtypeWarning: Columns (8,9) have mixed types. Specify dtype option on import or set low_memory=False.\n",
      "  interactivity=interactivity, compiler=compiler, result=result)\n"
     ]
    }
   ],
   "source": [
    "train_user = pd.read_csv('data/table1_user',encoding='utf-8',index_col = False, delimiter='\\t',\n",
    "                                 )\n",
    "train_user['cur_jd_type'] = train_user['cur_jd_type'].astype(str)\n",
    "train_user.loc[train_user['cur_jd_type']=='nan',['cur_jd_type']] = '无业'\n",
    "train_job = pd.read_csv(\"data/table2_jd\",delimiter=\"\\t\",error_bad_lines=False)\n",
    "train_action = pd.read_csv(\"data/table3_action\",delimiter=\"\\t\")\n",
    "test_action = pd.read_csv(\"data/zhaopin_round1_user_exposure_A_20190723\",delim_whitespace=True)\n",
    "test_user = pd.read_csv(\"data/user_ToBePredicted\",delimiter=\"\\t\")\n",
    "test_user['cur_jd_type'] = test_user['cur_jd_type'].astype(str)\n",
    "test_user.loc[test_user['cur_jd_type']=='nan',['cur_jd_type']] = '无业'\n",
    "train_action['mix_sat']  = train_action['satisfied']*10+train_action['delivered']*3\n",
    "train_action.loc[train_action.mix_sat==13,'mix_sat'] =10"
   ]
  },
  {
   "cell_type": "code",
   "execution_count": 3,
   "metadata": {},
   "outputs": [],
   "source": [
    "train_big_table = pd.merge(train_action,train_user,how=\"inner\",on=\"user_id\")\n",
    "train_big_table = pd.merge(train_big_table,train_job,how=\"left\",on=\"jd_no\")\n",
    "test_big_table = pd.merge(test_action,test_user,how=\"inner\",on=\"user_id\")\n",
    "test_big_table = pd.merge(test_big_table,train_job,how=\"left\",on=\"jd_no\")\n",
    "train_big_table.drop_duplicates(inplace=True)\n",
    "test_big_table.drop_duplicates(inplace=True)"
   ]
  },
  {
   "cell_type": "code",
   "execution_count": 4,
   "metadata": {},
   "outputs": [],
   "source": [
    "train_big_table['jd_sub_type'] = train_big_table['jd_sub_type'].astype(str)\n",
    "train_big_table.loc[train_big_table['jd_sub_type']=='nan',['jd_sub_type']] = '未给出'\n",
    "test_big_table['jd_sub_type'] = test_big_table['jd_sub_type'].astype(str)\n",
    "test_big_table.loc[test_big_table['jd_sub_type']=='nan',['jd_sub_type']] = '未给出'\n"
   ]
  },
  {
   "cell_type": "code",
   "execution_count": 5,
   "metadata": {},
   "outputs": [],
   "source": [
    "jd_sub_action_series = train_big_table.groupby(['jd_sub_type'])['browsed'].count()\n",
    "jd_sub_action =pd.DataFrame({'jd_sub_type':jd_sub_action_series.index, 'jd_sub_pos_cont':jd_sub_action_series.values})\n",
    "jd_sub_action['jd_sub_browsed_rate'] = train_big_table.groupby(['jd_sub_type'])['browsed'].mean().values\n",
    "jd_sub_action['jd_sub_delivered_rate'] = train_big_table.groupby(['jd_sub_type'])['delivered'].mean().values\n",
    "jd_sub_action['jd_sub_satisfied_rate'] = train_big_table.groupby(['jd_sub_type'])['satisfied'].mean().values\n",
    "jd_sub_action['jd_sub_satisfied_cont'] = train_big_table.groupby(['jd_sub_type'])['satisfied'].sum().values\n",
    "jd_sub_action['jd_sub_delivered_cont'] = train_big_table.groupby(['jd_sub_type'])['delivered'].sum().values\n",
    "jd_sub_action['jd_sub_browsed_cont'] = train_big_table.groupby(['jd_sub_type'])['browsed'].sum().values\n",
    "jd_sub_action['jd_sub_satisfied_conv_rate'] = jd_sub_action['jd_sub_satisfied_cont'] / jd_sub_action['jd_sub_delivered_cont']\n",
    "jd_sub_action['jd_sub_delivered_conv_rate'] = jd_sub_action['jd_sub_delivered_cont'] / jd_sub_action['jd_sub_browsed_cont']\n",
    "jd_sub_action.loc[jd_sub_action['jd_sub_satisfied_conv_rate'].isnull(),'jd_sub_satisfied_conv_rate']=0\n",
    "jd_sub_action.loc[jd_sub_action['jd_sub_delivered_conv_rate'].isnull(),'jd_sub_delivered_conv_rate']=0"
   ]
  },
  {
   "cell_type": "code",
   "execution_count": 6,
   "metadata": {},
   "outputs": [],
   "source": [
    "train_big_table = pd.merge(train_big_table,jd_sub_action,how=\"left\",on=\"jd_sub_type\")\n",
    "test_big_table = pd.merge(test_big_table,jd_sub_action,how=\"left\",on=\"jd_sub_type\")"
   ]
  },
  {
   "cell_type": "code",
   "execution_count": 7,
   "metadata": {},
   "outputs": [
    {
     "data": {
      "text/html": [
       "<div>\n",
       "<style scoped>\n",
       "    .dataframe tbody tr th:only-of-type {\n",
       "        vertical-align: middle;\n",
       "    }\n",
       "\n",
       "    .dataframe tbody tr th {\n",
       "        vertical-align: top;\n",
       "    }\n",
       "\n",
       "    .dataframe thead th {\n",
       "        text-align: right;\n",
       "    }\n",
       "</style>\n",
       "<table border=\"1\" class=\"dataframe\">\n",
       "  <thead>\n",
       "    <tr style=\"text-align: right;\">\n",
       "      <th></th>\n",
       "      <th>user_id</th>\n",
       "      <th>jd_no</th>\n",
       "      <th>live_city_id</th>\n",
       "      <th>desire_jd_city_id</th>\n",
       "      <th>desire_jd_industry_id</th>\n",
       "      <th>desire_jd_type_id</th>\n",
       "      <th>desire_jd_salary_id</th>\n",
       "      <th>cur_industry_id</th>\n",
       "      <th>cur_jd_type</th>\n",
       "      <th>cur_salary_id</th>\n",
       "      <th>...</th>\n",
       "      <th>job_description</th>\n",
       "      <th>jd_sub_pos_cont</th>\n",
       "      <th>jd_sub_browsed_rate</th>\n",
       "      <th>jd_sub_delivered_rate</th>\n",
       "      <th>jd_sub_satisfied_rate</th>\n",
       "      <th>jd_sub_satisfied_cont</th>\n",
       "      <th>jd_sub_delivered_cont</th>\n",
       "      <th>jd_sub_browsed_cont</th>\n",
       "      <th>jd_sub_satisfied_conv_rate</th>\n",
       "      <th>jd_sub_delivered_conv_rate</th>\n",
       "    </tr>\n",
       "  </thead>\n",
       "  <tbody>\n",
       "  </tbody>\n",
       "</table>\n",
       "<p>0 rows × 40 columns</p>\n",
       "</div>"
      ],
      "text/plain": [
       "Empty DataFrame\n",
       "Columns: [user_id, jd_no, live_city_id, desire_jd_city_id, desire_jd_industry_id, desire_jd_type_id, desire_jd_salary_id, cur_industry_id, cur_jd_type, cur_salary_id, cur_degree_id, birthday, start_work_date, experience, jd_title, company_name, city, jd_sub_type, require_nums, max_salary, min_salary, start_date, end_date, is_travel, min_years, key, min_edu_level, max_edu_level, is_mangerial, resume_language_required, job_description, jd_sub_pos_cont, jd_sub_browsed_rate, jd_sub_delivered_rate, jd_sub_satisfied_rate, jd_sub_satisfied_cont, jd_sub_delivered_cont, jd_sub_browsed_cont, jd_sub_satisfied_conv_rate, jd_sub_delivered_conv_rate]\n",
       "Index: []\n",
       "\n",
       "[0 rows x 40 columns]"
      ]
     },
     "execution_count": 7,
     "metadata": {},
     "output_type": "execute_result"
    }
   ],
   "source": [
    "test_big_table.loc[test_big_table['jd_sub_type']=='办事处首席代表',['jd_sub_pos_cont','jd_sub_browsed_rate','jd_sub_delivered_rate','jd_sub_satisfied_rate','jd_sub_satisfied_conv_rate','jd_sub_delivered_conv_rate']] = 460,0.295652,0.134783,0.036957,0.274194,0.455882\n",
    "test_big_table.loc[test_big_table['jd_sub_type']=='装订工',['jd_sub_pos_cont','jd_sub_browsed_rate','jd_sub_delivered_rate','jd_sub_satisfied_rate','jd_sub_satisfied_conv_rate','jd_sub_delivered_conv_rate']] = 9,0.333333,0.000000,0.000000,0.000000,0.500000\n",
    "test_big_table.loc[test_big_table['jd_sub_type']=='拍卖师',['jd_sub_pos_cont','jd_sub_browsed_rate','jd_sub_delivered_rate','jd_sub_satisfied_rate','jd_sub_satisfied_conv_rate','jd_sub_delivered_conv_rate']] = 169,0.218935,0.094675,0.03550,0.375000,0.432432\n",
    "test_big_table[test_big_table['jd_sub_pos_cont'].isnull()]"
   ]
  },
  {
   "cell_type": "code",
   "execution_count": 8,
   "metadata": {},
   "outputs": [],
   "source": [
    "cur_jd_action_series = train_big_table.groupby(['cur_jd_type'])['browsed'].count()\n",
    "cur_jd_action =pd.DataFrame({'cur_jd_type':cur_jd_action_series.index, 'cur_jd_pos_cont':cur_jd_action_series.values})\n",
    "cur_jd_action['cur_jd_browsed_rate'] = train_big_table.groupby(['cur_jd_type'])['browsed'].mean().values\n",
    "cur_jd_action['cur_jd_delivered_rate'] = train_big_table.groupby(['cur_jd_type'])['delivered'].mean().values\n",
    "cur_jd_action['cur_jd_satisfied_rate'] = train_big_table.groupby(['cur_jd_type'])['satisfied'].mean().values\n",
    "cur_jd_action['cur_jd_satisfied_cont'] = train_big_table.groupby(['cur_jd_type'])['satisfied'].sum().values\n",
    "cur_jd_action['cur_jd_delivered_cont'] = train_big_table.groupby(['cur_jd_type'])['delivered'].sum().values\n",
    "cur_jd_action['cur_jd_browsed_cont'] = train_big_table.groupby(['cur_jd_type'])['browsed'].sum().values\n",
    "cur_jd_action['cur_jd_satisfied_conv_rate'] = cur_jd_action['cur_jd_satisfied_cont'] / cur_jd_action['cur_jd_delivered_cont']\n",
    "cur_jd_action['cur_jd_delivered_conv_rate'] = cur_jd_action['cur_jd_delivered_cont'] / cur_jd_action['cur_jd_browsed_cont']\n",
    "\n",
    "cur_jd_action.loc[cur_jd_action['cur_jd_satisfied_conv_rate'].isnull(),'cur_jd_satisfied_conv_rate']=0\n",
    "cur_jd_action.loc[cur_jd_action['cur_jd_delivered_conv_rate'].isnull(),'cur_jd_delivered_conv_rate']=0\n",
    "\n",
    "test_big_table = pd.merge(test_big_table,cur_jd_action,how=\"left\",on=\"cur_jd_type\")\n",
    "train_big_table = pd.merge(train_big_table,cur_jd_action,how=\"left\",on=\"cur_jd_type\")\n",
    "\n"
   ]
  },
  {
   "cell_type": "code",
   "execution_count": 9,
   "metadata": {},
   "outputs": [
    {
     "data": {
      "text/html": [
       "<div>\n",
       "<style scoped>\n",
       "    .dataframe tbody tr th:only-of-type {\n",
       "        vertical-align: middle;\n",
       "    }\n",
       "\n",
       "    .dataframe tbody tr th {\n",
       "        vertical-align: top;\n",
       "    }\n",
       "\n",
       "    .dataframe thead th {\n",
       "        text-align: right;\n",
       "    }\n",
       "</style>\n",
       "<table border=\"1\" class=\"dataframe\">\n",
       "  <thead>\n",
       "    <tr style=\"text-align: right;\">\n",
       "      <th></th>\n",
       "      <th>user_id</th>\n",
       "      <th>jd_no</th>\n",
       "      <th>live_city_id</th>\n",
       "      <th>desire_jd_city_id</th>\n",
       "      <th>desire_jd_industry_id</th>\n",
       "      <th>desire_jd_type_id</th>\n",
       "      <th>desire_jd_salary_id</th>\n",
       "      <th>cur_industry_id</th>\n",
       "      <th>cur_jd_type</th>\n",
       "      <th>cur_salary_id</th>\n",
       "      <th>...</th>\n",
       "      <th>jd_sub_delivered_conv_rate</th>\n",
       "      <th>cur_jd_pos_cont</th>\n",
       "      <th>cur_jd_browsed_rate</th>\n",
       "      <th>cur_jd_delivered_rate</th>\n",
       "      <th>cur_jd_satisfied_rate</th>\n",
       "      <th>cur_jd_satisfied_cont</th>\n",
       "      <th>cur_jd_delivered_cont</th>\n",
       "      <th>cur_jd_browsed_cont</th>\n",
       "      <th>cur_jd_satisfied_conv_rate</th>\n",
       "      <th>cur_jd_delivered_conv_rate</th>\n",
       "    </tr>\n",
       "  </thead>\n",
       "  <tbody>\n",
       "  </tbody>\n",
       "</table>\n",
       "<p>0 rows × 49 columns</p>\n",
       "</div>"
      ],
      "text/plain": [
       "Empty DataFrame\n",
       "Columns: [user_id, jd_no, live_city_id, desire_jd_city_id, desire_jd_industry_id, desire_jd_type_id, desire_jd_salary_id, cur_industry_id, cur_jd_type, cur_salary_id, cur_degree_id, birthday, start_work_date, experience, jd_title, company_name, city, jd_sub_type, require_nums, max_salary, min_salary, start_date, end_date, is_travel, min_years, key, min_edu_level, max_edu_level, is_mangerial, resume_language_required, job_description, jd_sub_pos_cont, jd_sub_browsed_rate, jd_sub_delivered_rate, jd_sub_satisfied_rate, jd_sub_satisfied_cont, jd_sub_delivered_cont, jd_sub_browsed_cont, jd_sub_satisfied_conv_rate, jd_sub_delivered_conv_rate, cur_jd_pos_cont, cur_jd_browsed_rate, cur_jd_delivered_rate, cur_jd_satisfied_rate, cur_jd_satisfied_cont, cur_jd_delivered_cont, cur_jd_browsed_cont, cur_jd_satisfied_conv_rate, cur_jd_delivered_conv_rate]\n",
       "Index: []\n",
       "\n",
       "[0 rows x 49 columns]"
      ]
     },
     "execution_count": 9,
     "metadata": {},
     "output_type": "execute_result"
    }
   ],
   "source": [
    "test_big_table.loc[test_big_table['cur_jd_type']=='人力资源经理',['cur_jd_pos_cont','cur_jd_browsed_rate','cur_jd_delivered_rate','cur_jd_satisfied_rate','jd_sub_satisfied_conv_rate','jd_sub_delivered_conv_rate']] = 20275,0.276893,0.131591,0.051837,0.507463,0.443709\n",
    "test_big_table.loc[test_big_table['cur_jd_type']=='市场策划/企划经理/主管',['cur_jd_pos_cont','cur_jd_browsed_rate','cur_jd_delivered_rate','cur_jd_satisfied_rate','jd_sub_satisfied_conv_rate','jd_sub_delivered_conv_rate']] = 480,0.258333,0.139583,0.052083,0.373134,0.540323\n",
    "test_big_table[test_big_table['cur_jd_pos_cont'].isnull()]"
   ]
  },
  {
   "cell_type": "code",
   "execution_count": 10,
   "metadata": {},
   "outputs": [],
   "source": [
    "train_big_table['jd_title'] = train_big_table['jd_title'].str[0:4]\n",
    "test_big_table['jd_title'] = test_big_table['jd_title'].str[0:4]\n",
    "train_big_table.loc[train_big_table['jd_title'].isnull(),['jd_title']] ='未出现'\n",
    "test_big_table.loc[test_big_table['jd_title'].isnull(),['jd_title']] ='未出现'\n"
   ]
  },
  {
   "cell_type": "code",
   "execution_count": 11,
   "metadata": {},
   "outputs": [],
   "source": [
    "jd_title_action_series = train_big_table.groupby(['jd_title'])['browsed'].count()\n",
    "jd_title_action =pd.DataFrame({'jd_title':jd_title_action_series.index, 'jd_title_pos_cont':jd_title_action_series.values})\n",
    "jd_title_action['jd_title_browsed_rate'] = train_big_table.groupby(['jd_title'])['browsed'].mean().values\n",
    "jd_title_action['jd_title_delivered_rate'] = train_big_table.groupby(['jd_title'])['delivered'].mean().values\n",
    "jd_title_action['jd_title_satisfied_rate'] = train_big_table.groupby(['jd_title'])['satisfied'].mean().values\n"
   ]
  },
  {
   "cell_type": "code",
   "execution_count": 12,
   "metadata": {},
   "outputs": [],
   "source": [
    "jd_title_action.loc[jd_title_action['jd_title_pos_cont']<10,['jd_title_browsed_rate','jd_title_delivered_rate','jd_title_satisfied_rate']]=jd_title_action[jd_title_action['jd_title_pos_cont']<10]['jd_title_browsed_rate'].mean(),jd_title_action[jd_title_action['jd_title_pos_cont']<10]['jd_title_delivered_rate'].mean(),jd_title_action[jd_title_action['jd_title_pos_cont']<10]['jd_title_satisfied_rate'].mean()\n",
    "\n"
   ]
  },
  {
   "cell_type": "code",
   "execution_count": 13,
   "metadata": {},
   "outputs": [],
   "source": [
    "test_big_table = pd.merge(test_big_table,jd_title_action,how=\"left\",on=\"jd_title\")\n",
    "train_big_table = pd.merge(train_big_table,jd_title_action,how=\"left\",on=\"jd_title\")"
   ]
  },
  {
   "cell_type": "code",
   "execution_count": 14,
   "metadata": {},
   "outputs": [
    {
     "data": {
      "text/plain": [
       "Series([], Name: jd_title, dtype: int64)"
      ]
     },
     "execution_count": 14,
     "metadata": {},
     "output_type": "execute_result"
    }
   ],
   "source": [
    "train_big_table[train_big_table['jd_title_browsed_rate'].isnull()]['jd_title'].value_counts()"
   ]
  },
  {
   "cell_type": "code",
   "execution_count": 15,
   "metadata": {},
   "outputs": [
    {
     "data": {
      "text/plain": [
       "Series([], Name: jd_title, dtype: int64)"
      ]
     },
     "execution_count": 15,
     "metadata": {},
     "output_type": "execute_result"
    }
   ],
   "source": [
    "test_big_table.loc[test_big_table['jd_title_browsed_rate'].isnull(),['jd_title','jd_title_browsed_rate','jd_title_delivered_rate','jd_title_satisfied_rate']]='小众',jd_title_action[jd_title_action['jd_title_pos_cont']<10]['jd_title_browsed_rate'].mean(),jd_title_action[jd_title_action['jd_title_pos_cont']<10]['jd_title_delivered_rate'].mean(),jd_title_action[jd_title_action['jd_title_pos_cont']<10]['jd_title_satisfied_rate'].mean()\n",
    "train_big_table[train_big_table['jd_title_browsed_rate'].isnull()]['jd_title'].value_counts()"
   ]
  },
  {
   "cell_type": "code",
   "execution_count": 16,
   "metadata": {},
   "outputs": [],
   "source": [
    "train_big_table.loc[train_big_table['jd_title_pos_cont']<10,['jd_title']]='小众'\n"
   ]
  },
  {
   "cell_type": "code",
   "execution_count": 17,
   "metadata": {},
   "outputs": [],
   "source": [
    "train_big_table['start_date'] = train_big_table['start_date'].astype(str)\n",
    "train_big_table['end_date'] = train_big_table['end_date'].astype(str)\n",
    "test_big_table['start_date'] = test_big_table['start_date'].astype(str)\n",
    "test_big_table['end_date'] = test_big_table['end_date'].astype(str)"
   ]
  },
  {
   "cell_type": "code",
   "execution_count": 18,
   "metadata": {},
   "outputs": [],
   "source": [
    "from datetime import datetime\n",
    "\n",
    "def remain_date(x):\n",
    "    if  'N' in x :\n",
    "        return 99999;\n",
    "    elif 'na' in x:\n",
    "        return -1\n",
    "    else:\n",
    "        d1 = datetime.strptime('20190327', \"%Y%m%d\")\n",
    "        d2 = datetime.strptime(x, \"%Y%m%d\")\n",
    "        return abs((d2 - d1).days)\n",
    "    \n",
    "train_big_table['remain_date'] = train_big_table['end_date'].apply(remain_date)\n",
    "test_big_table['remain_date'] = test_big_table['end_date'].apply(remain_date)"
   ]
  },
  {
   "cell_type": "code",
   "execution_count": 19,
   "metadata": {},
   "outputs": [],
   "source": [
    "def month_convert(x):\n",
    "    if  'N' in x:\n",
    "        return -1;\n",
    "    elif 'na' in x:\n",
    "        return -1\n",
    "    else:\n",
    "        if int(x[0:6])< 201804:\n",
    "            return '201804'\n",
    "        else:\n",
    "            return x[0:6]\n",
    "\n",
    "train_big_table['start_month'] = train_big_table['start_date'].apply(month_convert)\n",
    "test_big_table['start_month'] = test_big_table['start_date'].apply(month_convert)"
   ]
  },
  {
   "cell_type": "code",
   "execution_count": 20,
   "metadata": {},
   "outputs": [],
   "source": [
    "def extract_city(citys,index):\n",
    "    city_list = citys.split(\",\")\n",
    "    if index < len(city_list):\n",
    "        city = city_list[index]\n",
    "        if city != \"-\":\n",
    "            city = int(city)\n",
    "        else:\n",
    "            city = -1\n",
    "    else:\n",
    "        city = -1\n",
    "    return city\n",
    "\n",
    "def exp_in_desc(exp,desc):\n",
    "    if str(exp) == \"nan\":\n",
    "        exp = \"\"\n",
    "    exps = exp.split(\"|\")\n",
    "    num = 0\n",
    "    for item in exps:\n",
    "        if item in desc:\n",
    "            num+=1\n",
    "    return num"
   ]
  },
  {
   "cell_type": "code",
   "execution_count": 21,
   "metadata": {},
   "outputs": [],
   "source": [
    "min_year_dict = {\n",
    "    305: 4,\n",
    "    -1:-1,\n",
    "    1:1,\n",
    "    103:2,\n",
    "    0:0,\n",
    "    510:7,\n",
    "    1099:10,\n",
    "    399:4,\n",
    "    599:7,\n",
    "    199:1,\n",
    "    299:2,\n",
    "    110:1\n",
    "}\n",
    "degree_dict = {\n",
    "    \"初中\":1,\n",
    "    \"中技\":2,\n",
    "    \"高中\":3,\n",
    "    \"中专\":3,\n",
    "    \"大专\":4,\n",
    "    \"本科\":5,\n",
    "    \"硕士\":6,\n",
    "    \"博士\":7,\n",
    "    \"EMBA\":7,\n",
    "    \"MBA\":6,\n",
    "    \"其他\":0,\n",
    "    \"请选择\":0,\n",
    "    \"\\\\N\":0,\n",
    "    \"na\":0\n",
    "}\n",
    "min_salary_dict = {\n",
    "    100002000:1000,\n",
    "    400106000:4001,\n",
    "    0:0,\n",
    "    200104000:2001,\n",
    "    600108000:6001,\n",
    "    800110000:8001,\n",
    "    1000115000:10001,\n",
    "    2500199999:25001,\n",
    "    1500125000:15001,\n",
    "    3500150000:35001,\n",
    "    70001100000:70001,\n",
    "    1000:0,\n",
    "    100001150000:100001,\n",
    "    2500135000:25001,\n",
    "    5000170000:50001\n",
    "}\n",
    "max_salary_dict = {\n",
    "    100002000:2000,\n",
    "    400106000:6000,\n",
    "    0:0,\n",
    "    200104000:4000,\n",
    "    600108000:8000,\n",
    "    800110000:10000,\n",
    "    1000115000:15000,\n",
    "    2500199999:99999,\n",
    "    1500125000:25000,\n",
    "    3500150000:50000,\n",
    "    70001100000:100000,\n",
    "    1000:1000,\n",
    "    100001150000:150000,\n",
    "    2500135000:35000,\n",
    "    5000170000:70000\n",
    "}"
   ]
  },
  {
   "cell_type": "code",
   "execution_count": 22,
   "metadata": {},
   "outputs": [],
   "source": [
    "train_big_table['min_years'].fillna(-1,inplace=True)\n",
    "test_big_table['min_years'].fillna(-1,inplace=True)\n",
    "train_big_table['cur_degree_id'].fillna('na',inplace=True)\n",
    "test_big_table['cur_degree_id'].fillna('na',inplace=True)\n",
    "train_big_table['desire_jd_salary_id'].fillna(0,inplace=True)\n",
    "test_big_table['desire_jd_salary_id'].fillna(0,inplace=True)\n",
    "train_big_table['job_description'].fillna(\"\",inplace=True)\n",
    "test_big_table['job_description'].fillna(\"\",inplace=True)"
   ]
  },
  {
   "cell_type": "code",
   "execution_count": 23,
   "metadata": {},
   "outputs": [],
   "source": [
    "from functools import partial\n",
    "def fe(df):\n",
    "    df[\"desire_jd_city_1\"] = df[\"desire_jd_city_id\"].apply(partial(extract_city,index=0))\n",
    "    df[\"desire_jd_city_2\"] = df[\"desire_jd_city_id\"].apply(partial(extract_city,index=1))\n",
    "    df[\"desire_jd_city_3\"] = df[\"desire_jd_city_id\"].apply(partial(extract_city,index=2))\n",
    "    df[\"desire_jd_city_num\"] = df[[\"desire_jd_city_1\",\"desire_jd_city_2\",\"desire_jd_city_3\"]].sum(axis=1)\n",
    "    \n",
    "    df[\"city_equal_desired_city_1\"] = df[\"desire_jd_city_1\"]==df[\"city\"]\n",
    "    df[\"city_equal_desired_city_2\"] = df[\"desire_jd_city_2\"]==df[\"city\"]\n",
    "    df[\"city_equal_desired_city_3\"] = df[\"desire_jd_city_3\"]==df[\"city\"]\n",
    "    \n",
    "    df[\"work_years\"] = 2019-df[\"start_work_date\"].apply(lambda x : 2018 if x==\"-\" else int(x))\n",
    "    \n",
    "    \n",
    "    df[\"desire_min_salary\"] = df[\"desire_jd_salary_id\"].apply(lambda x: min_salary_dict[x])\n",
    "    df[\"desire_max_salary\"] = df[\"desire_jd_salary_id\"].apply(lambda x: max_salary_dict[x])\n",
    "    df[\"desire_salary_diff\"] = df[\"desire_max_salary\"]-df[\"desire_min_salary\"]\n",
    "    \n",
    "    df[\"min_years\"] = df[\"min_years\"].apply(lambda x: min_year_dict[x])\n",
    "    \n",
    "    df[\"work_years_statisfied\"] = df[\"work_years\"].astype(int) > df[\"min_years\"]\n",
    "    \n",
    "    df[\"salary_large_than_desire\"] = df[\"desire_min_salary\"] > df[\"min_salary\"]\n",
    "    \n",
    "    df[\"cur_salary_min\"] = df[\"cur_salary_id\"].apply(lambda x: min_salary_dict[int(x if str.isnumeric(x) else \"0\")])\n",
    "    df[\"cur_salary_max\"] = df[\"cur_salary_id\"].apply(lambda x: max_salary_dict[int(x if str.isnumeric(x) else \"0\")])\n",
    "    \n",
    "    df[\"salary_large_than_cur\"] = df[\"cur_salary_min\"] > df[\"min_salary\"]\n",
    "    \n",
    "    df[\"cur_degree_id\"] = df[\"cur_degree_id\"].fillna(\"na\").apply(lambda x:degree_dict[x.strip()])\n",
    "    \n",
    "    df[\"job_description_len\"] = df[\"job_description\"].apply(len)\n",
    "    \n",
    "    df[\"experience_num\"] = df[\"experience\"].apply(lambda x: len(str(x).split(\"|\")) if str(x) != \"nan\" else 0)\n",
    "    \n",
    "    df[\"min_edu_level\"] = df[\"min_edu_level\"].fillna(\"na\").apply(lambda x:degree_dict[x.strip()])\n",
    "    exp_in_desc_num = []\n",
    "    for idx, data in df.iterrows():\n",
    "        exp_in_desc_num.append(exp_in_desc(data[\"experience\"],data[\"job_description\"]))\n",
    "    df[\"exp_in_desc_num\"] = exp_in_desc_num\n",
    "    \n",
    "#     \"live_city_id\",\"desire_jd_salary_id\",\"cur_industry_id\",\"cur_jd_type\",\"cur_salary_id\",\n",
    "#          \"cur_degree_id\",\"city\",\"jd_sub_type\",\n",
    "#          \"max_salary\",\"min_salary\",\"is_travel\",\"min_years\",\"min_edu_level\",\n",
    "#          \"desire_jd_city_1\",\"desire_jd_city_2\",\"desire_jd_city_3\",\"work_years_statisfied\"\n",
    "#  \"jd_sub_browsed_dicret\",\"jd_sub_delivered_dicret\",\"jd_sub_satisfied_dicret\"  \n",
    "# 'jd_title_browsed_rate','jd_title_delivered_rate','jd_title_satisfied_rate'\n",
    "    cross_feature_tuple = [(\"live_city_id\",\"city\"),(\"live_city_id\",\"desire_jd_city_1\"),(\"cur_industry_id\",\"jd_sub_type\"),\n",
    "                          (\"cur_jd_type\",\"jd_sub_type\"),(\"cur_salary_id\",\"cur_degree_id\"),(\"city\",\"jd_sub_type\"),\n",
    "                          (\"jd_sub_type\",\"min_salary\"),(\"jd_sub_type\",\"max_salary\"),(\"jd_sub_type\",\"is_travel\"),\n",
    "                          (\"min_years\",\"jd_sub_type\"),(\"jd_sub_type\",\"require_nums\")\n",
    "\n",
    "                          ]\n",
    "    cross_feature_names = list(feature[0]+\"&\"+feature[1] for feature in cross_feature_tuple)\n",
    "    print(\"create cross features\",cross_feature_names)\n",
    "    for idx,(fa,fb) in enumerate(cross_feature_tuple):\n",
    "        df[cross_feature_names[idx]] = df[fa].astype(str)+df[fb].astype(str)\n",
    "    return cross_feature_names"
   ]
  },
  {
   "cell_type": "code",
   "execution_count": 24,
   "metadata": {},
   "outputs": [
    {
     "name": "stdout",
     "output_type": "stream",
     "text": [
      "create cross features ['live_city_id&city', 'live_city_id&desire_jd_city_1', 'cur_industry_id&jd_sub_type', 'cur_jd_type&jd_sub_type', 'cur_salary_id&cur_degree_id', 'city&jd_sub_type', 'jd_sub_type&min_salary', 'jd_sub_type&max_salary', 'jd_sub_type&is_travel', 'min_years&jd_sub_type', 'jd_sub_type&require_nums']\n",
      "create cross features ['live_city_id&city', 'live_city_id&desire_jd_city_1', 'cur_industry_id&jd_sub_type', 'cur_jd_type&jd_sub_type', 'cur_salary_id&cur_degree_id', 'city&jd_sub_type', 'jd_sub_type&min_salary', 'jd_sub_type&max_salary', 'jd_sub_type&is_travel', 'min_years&jd_sub_type', 'jd_sub_type&require_nums']\n"
     ]
    },
    {
     "data": {
      "text/plain": [
       "['live_city_id&city',\n",
       " 'live_city_id&desire_jd_city_1',\n",
       " 'cur_industry_id&jd_sub_type',\n",
       " 'cur_jd_type&jd_sub_type',\n",
       " 'cur_salary_id&cur_degree_id',\n",
       " 'city&jd_sub_type',\n",
       " 'jd_sub_type&min_salary',\n",
       " 'jd_sub_type&max_salary',\n",
       " 'jd_sub_type&is_travel',\n",
       " 'min_years&jd_sub_type',\n",
       " 'jd_sub_type&require_nums']"
      ]
     },
     "execution_count": 24,
     "metadata": {},
     "output_type": "execute_result"
    }
   ],
   "source": [
    "cross_feature_names = fe(train_big_table)\n",
    "fe(test_big_table)"
   ]
  },
  {
   "cell_type": "code",
   "execution_count": 25,
   "metadata": {},
   "outputs": [
    {
     "name": "stderr",
     "output_type": "stream",
     "text": [
      "/home/ubuntu/anaconda3/envs/tensorflow_p36/lib/python3.6/site-packages/ipykernel/__main__.py:1: FutureWarning: Sorting because non-concatenation axis is not aligned. A future version\n",
      "of pandas will change to not sort by default.\n",
      "\n",
      "To accept the future behavior, pass 'sort=False'.\n",
      "\n",
      "To retain the current behavior and silence the warning, pass 'sort=True'.\n",
      "\n",
      "  if __name__ == '__main__':\n"
     ]
    }
   ],
   "source": [
    "all_big_table = pd.concat([train_big_table,test_big_table])"
   ]
  },
  {
   "cell_type": "code",
   "execution_count": 26,
   "metadata": {},
   "outputs": [],
   "source": [
    "from sklearn.preprocessing import LabelEncoder\n",
    "from tqdm import tqdm as tqdm\n",
    "import lightgbm as lgb"
   ]
  },
  {
   "cell_type": "code",
   "execution_count": 27,
   "metadata": {},
   "outputs": [],
   "source": [
    "#['jd_title_pos_cont']<3,['jd_title_browsed_rate','jd_title_delivered_rate','jd_title_satisfied_rate'\n",
    "\n",
    "def feature_select(target,*df_list):\n",
    "    result = []\n",
    "    cat_features = [\"live_city_id\",\"desire_jd_salary_id\",\"cur_industry_id\",\"cur_jd_type\",\"cur_salary_id\",\n",
    "         \"cur_degree_id\",\"city\",\"jd_sub_type\",\"start_month\",\n",
    "         \"max_salary\",\"min_salary\",\"is_travel\",\"min_years\",\"min_edu_level\",\n",
    "        \"work_years_statisfied\"    \n",
    "                   \n",
    "                   ]+cross_feature_names\n",
    "    lbl_dict = {}\n",
    "    for f in cat_features:\n",
    "        lbl = LabelEncoder()\n",
    "        lbl.fit(all_big_table[f].astype(str))\n",
    "        lbl_dict[f] = lbl\n",
    "    for df in df_list:\n",
    "        features = [\"live_city_id\",\"desire_jd_salary_id\",\"cur_industry_id\",\"cur_jd_type\",\"cur_salary_id\",\n",
    "             \"cur_degree_id\",\"birthday\",\"city\",\"jd_sub_type\",\"require_nums\",\n",
    "                    \"jd_sub_browsed_rate\",\"jd_sub_delivered_rate\",\"jd_sub_satisfied_rate\",\n",
    "                 \"start_month\",\"jd_sub_satisfied_conv_rate\",\"jd_sub_delivered_conv_rate\",\n",
    "             \"max_salary\",\"min_salary\",\"is_travel\",\"min_years\",\"min_edu_level\",\n",
    "             \"exp_in_desc_num\",\n",
    "                   \"desire_min_salary\",\"desire_max_salary\",\"salary_large_than_desire\",\"cur_salary_min\",\n",
    "                   \"cur_salary_max\",\"salary_large_than_cur\",\"job_description_len\",\"experience_num\",\"work_years_statisfied\",\"work_years\",\"desire_jd_city_num\",\"desire_salary_diff\"]+cross_feature_names\n",
    "\n",
    "        x = df[features]\n",
    "        if target in df.columns:\n",
    "            y = df[target]\n",
    "        else:\n",
    "            y = None\n",
    "        for f in cat_features:\n",
    "            lbl = lbl_dict[f]\n",
    "            x[f] = lbl.transform(x[f].astype(str))\n",
    "        result.append((x,y))\n",
    "    return result"
   ]
  },
  {
   "cell_type": "code",
   "execution_count": 28,
   "metadata": {},
   "outputs": [],
   "source": [
    "from sklearn.model_selection import KFold\n",
    "\n",
    "def cross_validate(param=dict(n_estimators=1000,metric=\"map\",colsample_bytree=0.2,max_depth=7,importance_type=\"gain\")\n",
    "                   ,n_folds=5,target=\"mix_sat\"):\n",
    "    train_users = train_big_table[\"user_id\"].unique()\n",
    "    folds = KFold(n_folds,shuffle=True,random_state=42)\n",
    "    models = []\n",
    "    test_pred = np.zeros(test_big_table.shape[0])\n",
    "    scores = []\n",
    "    for idx,(train_idx,valid_idx) in enumerate(folds.split(train_users)):\n",
    "        t_user = train_users[train_idx]\n",
    "        v_user = train_users[valid_idx]\n",
    "        train_data = train_big_table[train_big_table[\"user_id\"].isin(t_user)]\n",
    "        valid_data = train_big_table[train_big_table[\"user_id\"].isin(v_user)]\n",
    "        train_group = train_data.groupby(\"user_id\",as_index=False).count()[\"mix_sat\"].values\n",
    "        valid_group = valid_data.groupby(\"user_id\",as_index=False).count()[\"mix_sat\"].values\n",
    "        test_group = test_big_table.groupby(\"user_id\",as_index=False).count()[\"jd_no\"].values\n",
    "        \n",
    "        result = feature_select(target,train_data,valid_data,test_big_table)\n",
    "        t_x,t_y = result[0]\n",
    "        v_x,v_y = result[1]\n",
    "        test_x,_ = result[2]\n",
    "        model = lgb.LGBMRanker(**param)\n",
    "        print(\"Fold\",idx,\"-\"*30)\n",
    "        model.fit(t_x,t_y,group=train_group,eval_set=[(t_x,t_y),(v_x,v_y)],eval_group=[train_group,valid_group],early_stopping_rounds=100,verbose=10,\n",
    "                  callbacks=[lgb.reset_parameter(learning_rate=lambda x: 0.03)]\n",
    "                 )\n",
    "        models.append(model)\n",
    "        test_pred += model.predict(test_x)/n_folds\n",
    "        scores.append(model.best_score_[\"valid_1\"][\"map@1\"])\n",
    "    print(\"mean score\",np.mean(scores))\n",
    "    return models,test_pred"
   ]
  },
  {
   "cell_type": "code",
   "execution_count": 29,
   "metadata": {},
   "outputs": [
    {
     "name": "stderr",
     "output_type": "stream",
     "text": [
      "/home/ubuntu/anaconda3/envs/tensorflow_p36/lib/python3.6/site-packages/ipykernel/__main__.py:33: SettingWithCopyWarning: \n",
      "A value is trying to be set on a copy of a slice from a DataFrame.\n",
      "Try using .loc[row_indexer,col_indexer] = value instead\n",
      "\n",
      "See the caveats in the documentation: http://pandas.pydata.org/pandas-docs/stable/indexing.html#indexing-view-versus-copy\n"
     ]
    },
    {
     "name": "stdout",
     "output_type": "stream",
     "text": [
      "Fold 0 ------------------------------\n",
      "Training until validation scores don't improve for 100 rounds.\n",
      "[10]\ttraining's map@1: 0.265\tvalid_1's map@1: 0.236667\n",
      "[20]\ttraining's map@1: 0.265833\tvalid_1's map@1: 0.228889\n",
      "[30]\ttraining's map@1: 0.270278\tvalid_1's map@1: 0.237778\n",
      "[40]\ttraining's map@1: 0.275833\tvalid_1's map@1: 0.246667\n",
      "[50]\ttraining's map@1: 0.280833\tvalid_1's map@1: 0.25\n",
      "[60]\ttraining's map@1: 0.2825\tvalid_1's map@1: 0.247778\n",
      "[70]\ttraining's map@1: 0.290556\tvalid_1's map@1: 0.244444\n",
      "[80]\ttraining's map@1: 0.290278\tvalid_1's map@1: 0.25\n",
      "[90]\ttraining's map@1: 0.295\tvalid_1's map@1: 0.25\n",
      "[100]\ttraining's map@1: 0.298333\tvalid_1's map@1: 0.248889\n",
      "[110]\ttraining's map@1: 0.300556\tvalid_1's map@1: 0.257778\n",
      "[120]\ttraining's map@1: 0.301667\tvalid_1's map@1: 0.256667\n",
      "[130]\ttraining's map@1: 0.303333\tvalid_1's map@1: 0.247778\n",
      "[140]\ttraining's map@1: 0.306667\tvalid_1's map@1: 0.251111\n",
      "[150]\ttraining's map@1: 0.310833\tvalid_1's map@1: 0.247778\n",
      "[160]\ttraining's map@1: 0.314722\tvalid_1's map@1: 0.251111\n",
      "[170]\ttraining's map@1: 0.319167\tvalid_1's map@1: 0.257778\n",
      "[180]\ttraining's map@1: 0.321111\tvalid_1's map@1: 0.254444\n",
      "[190]\ttraining's map@1: 0.3225\tvalid_1's map@1: 0.255556\n",
      "[200]\ttraining's map@1: 0.325278\tvalid_1's map@1: 0.254444\n",
      "[210]\ttraining's map@1: 0.328611\tvalid_1's map@1: 0.257778\n",
      "[220]\ttraining's map@1: 0.329722\tvalid_1's map@1: 0.261111\n",
      "[230]\ttraining's map@1: 0.333611\tvalid_1's map@1: 0.262222\n",
      "[240]\ttraining's map@1: 0.336111\tvalid_1's map@1: 0.26\n",
      "[250]\ttraining's map@1: 0.337778\tvalid_1's map@1: 0.262222\n",
      "[260]\ttraining's map@1: 0.338611\tvalid_1's map@1: 0.263333\n",
      "[270]\ttraining's map@1: 0.340278\tvalid_1's map@1: 0.261111\n",
      "[280]\ttraining's map@1: 0.343611\tvalid_1's map@1: 0.26\n",
      "[290]\ttraining's map@1: 0.345278\tvalid_1's map@1: 0.264444\n",
      "[300]\ttraining's map@1: 0.346667\tvalid_1's map@1: 0.264444\n",
      "[310]\ttraining's map@1: 0.348611\tvalid_1's map@1: 0.263333\n",
      "[320]\ttraining's map@1: 0.350278\tvalid_1's map@1: 0.26\n",
      "[330]\ttraining's map@1: 0.350556\tvalid_1's map@1: 0.258889\n",
      "[340]\ttraining's map@1: 0.356111\tvalid_1's map@1: 0.262222\n",
      "[350]\ttraining's map@1: 0.358611\tvalid_1's map@1: 0.267778\n",
      "[360]\ttraining's map@1: 0.362222\tvalid_1's map@1: 0.27\n",
      "[370]\ttraining's map@1: 0.365\tvalid_1's map@1: 0.27\n",
      "[380]\ttraining's map@1: 0.368056\tvalid_1's map@1: 0.267778\n",
      "[390]\ttraining's map@1: 0.37\tvalid_1's map@1: 0.27\n",
      "[400]\ttraining's map@1: 0.372222\tvalid_1's map@1: 0.271111\n",
      "[410]\ttraining's map@1: 0.372778\tvalid_1's map@1: 0.268889\n",
      "[420]\ttraining's map@1: 0.373333\tvalid_1's map@1: 0.268889\n",
      "[430]\ttraining's map@1: 0.373333\tvalid_1's map@1: 0.271111\n",
      "[440]\ttraining's map@1: 0.374722\tvalid_1's map@1: 0.273333\n",
      "[450]\ttraining's map@1: 0.376111\tvalid_1's map@1: 0.277778\n",
      "[460]\ttraining's map@1: 0.376111\tvalid_1's map@1: 0.277778\n",
      "[470]\ttraining's map@1: 0.378056\tvalid_1's map@1: 0.277778\n",
      "[480]\ttraining's map@1: 0.378889\tvalid_1's map@1: 0.278889\n",
      "[490]\ttraining's map@1: 0.379722\tvalid_1's map@1: 0.276667\n",
      "[500]\ttraining's map@1: 0.380833\tvalid_1's map@1: 0.276667\n",
      "[510]\ttraining's map@1: 0.381944\tvalid_1's map@1: 0.274444\n",
      "[520]\ttraining's map@1: 0.382222\tvalid_1's map@1: 0.274444\n",
      "[530]\ttraining's map@1: 0.3825\tvalid_1's map@1: 0.273333\n",
      "[540]\ttraining's map@1: 0.382778\tvalid_1's map@1: 0.275556\n",
      "[550]\ttraining's map@1: 0.3825\tvalid_1's map@1: 0.277778\n",
      "Early stopping, best iteration is:\n",
      "[455]\ttraining's map@1: 0.376111\tvalid_1's map@1: 0.278889\n",
      "Fold 1 ------------------------------\n",
      "Training until validation scores don't improve for 100 rounds.\n",
      "[10]\ttraining's map@1: 0.250278\tvalid_1's map@1: 0.231111\n",
      "[20]\ttraining's map@1: 0.256111\tvalid_1's map@1: 0.237778\n",
      "[30]\ttraining's map@1: 0.258056\tvalid_1's map@1: 0.24\n",
      "[40]\ttraining's map@1: 0.261944\tvalid_1's map@1: 0.243333\n",
      "[50]\ttraining's map@1: 0.265556\tvalid_1's map@1: 0.237778\n",
      "[60]\ttraining's map@1: 0.270278\tvalid_1's map@1: 0.238889\n",
      "[70]\ttraining's map@1: 0.276667\tvalid_1's map@1: 0.235556\n",
      "[80]\ttraining's map@1: 0.277222\tvalid_1's map@1: 0.245556\n",
      "[90]\ttraining's map@1: 0.283611\tvalid_1's map@1: 0.247778\n",
      "[100]\ttraining's map@1: 0.284444\tvalid_1's map@1: 0.251111\n",
      "[110]\ttraining's map@1: 0.289444\tvalid_1's map@1: 0.25\n",
      "[120]\ttraining's map@1: 0.292222\tvalid_1's map@1: 0.252222\n",
      "[130]\ttraining's map@1: 0.296111\tvalid_1's map@1: 0.25\n",
      "[140]\ttraining's map@1: 0.296944\tvalid_1's map@1: 0.253333\n",
      "[150]\ttraining's map@1: 0.300556\tvalid_1's map@1: 0.256667\n",
      "[160]\ttraining's map@1: 0.304444\tvalid_1's map@1: 0.255556\n",
      "[170]\ttraining's map@1: 0.309167\tvalid_1's map@1: 0.248889\n",
      "[180]\ttraining's map@1: 0.311944\tvalid_1's map@1: 0.25\n",
      "[190]\ttraining's map@1: 0.314722\tvalid_1's map@1: 0.246667\n",
      "[200]\ttraining's map@1: 0.3175\tvalid_1's map@1: 0.246667\n",
      "[210]\ttraining's map@1: 0.318889\tvalid_1's map@1: 0.245556\n",
      "[220]\ttraining's map@1: 0.319167\tvalid_1's map@1: 0.245556\n",
      "[230]\ttraining's map@1: 0.321944\tvalid_1's map@1: 0.251111\n",
      "[240]\ttraining's map@1: 0.3225\tvalid_1's map@1: 0.253333\n",
      "[250]\ttraining's map@1: 0.325\tvalid_1's map@1: 0.248889\n",
      "Early stopping, best iteration is:\n",
      "[152]\ttraining's map@1: 0.300556\tvalid_1's map@1: 0.26\n",
      "Fold 2 ------------------------------\n",
      "Training until validation scores don't improve for 100 rounds.\n",
      "[10]\ttraining's map@1: 0.248889\tvalid_1's map@1: 0.216667\n",
      "[20]\ttraining's map@1: 0.254722\tvalid_1's map@1: 0.223333\n",
      "[30]\ttraining's map@1: 0.259722\tvalid_1's map@1: 0.222222\n",
      "[40]\ttraining's map@1: 0.263889\tvalid_1's map@1: 0.225556\n",
      "[50]\ttraining's map@1: 0.267222\tvalid_1's map@1: 0.217778\n",
      "[60]\ttraining's map@1: 0.274167\tvalid_1's map@1: 0.213333\n",
      "[70]\ttraining's map@1: 0.280278\tvalid_1's map@1: 0.215556\n",
      "[80]\ttraining's map@1: 0.282778\tvalid_1's map@1: 0.222222\n",
      "[90]\ttraining's map@1: 0.2825\tvalid_1's map@1: 0.226667\n",
      "[100]\ttraining's map@1: 0.287222\tvalid_1's map@1: 0.23\n",
      "[110]\ttraining's map@1: 0.288611\tvalid_1's map@1: 0.234444\n",
      "[120]\ttraining's map@1: 0.294167\tvalid_1's map@1: 0.238889\n",
      "[130]\ttraining's map@1: 0.296944\tvalid_1's map@1: 0.234444\n",
      "[140]\ttraining's map@1: 0.298333\tvalid_1's map@1: 0.238889\n",
      "[150]\ttraining's map@1: 0.300278\tvalid_1's map@1: 0.241111\n",
      "[160]\ttraining's map@1: 0.303611\tvalid_1's map@1: 0.241111\n",
      "[170]\ttraining's map@1: 0.305556\tvalid_1's map@1: 0.242222\n",
      "[180]\ttraining's map@1: 0.308333\tvalid_1's map@1: 0.243333\n",
      "[190]\ttraining's map@1: 0.313056\tvalid_1's map@1: 0.241111\n",
      "[200]\ttraining's map@1: 0.316389\tvalid_1's map@1: 0.242222\n",
      "[210]\ttraining's map@1: 0.320278\tvalid_1's map@1: 0.243333\n",
      "[220]\ttraining's map@1: 0.321667\tvalid_1's map@1: 0.244444\n",
      "[230]\ttraining's map@1: 0.322778\tvalid_1's map@1: 0.244444\n",
      "[240]\ttraining's map@1: 0.324444\tvalid_1's map@1: 0.243333\n",
      "[250]\ttraining's map@1: 0.33\tvalid_1's map@1: 0.244444\n",
      "[260]\ttraining's map@1: 0.331667\tvalid_1's map@1: 0.243333\n",
      "[270]\ttraining's map@1: 0.334722\tvalid_1's map@1: 0.243333\n",
      "[280]\ttraining's map@1: 0.335278\tvalid_1's map@1: 0.242222\n",
      "[290]\ttraining's map@1: 0.338056\tvalid_1's map@1: 0.242222\n",
      "[300]\ttraining's map@1: 0.340833\tvalid_1's map@1: 0.242222\n",
      "[310]\ttraining's map@1: 0.341389\tvalid_1's map@1: 0.245556\n",
      "[320]\ttraining's map@1: 0.343333\tvalid_1's map@1: 0.243333\n",
      "[330]\ttraining's map@1: 0.344722\tvalid_1's map@1: 0.238889\n",
      "Early stopping, best iteration is:\n",
      "[234]\ttraining's map@1: 0.323889\tvalid_1's map@1: 0.246667\n",
      "Fold 3 ------------------------------\n",
      "Training until validation scores don't improve for 100 rounds.\n",
      "[10]\ttraining's map@1: 0.25\tvalid_1's map@1: 0.243333\n",
      "[20]\ttraining's map@1: 0.256667\tvalid_1's map@1: 0.247778\n",
      "[30]\ttraining's map@1: 0.2625\tvalid_1's map@1: 0.25\n",
      "[40]\ttraining's map@1: 0.266667\tvalid_1's map@1: 0.256667\n",
      "[50]\ttraining's map@1: 0.273611\tvalid_1's map@1: 0.262222\n",
      "[60]\ttraining's map@1: 0.277222\tvalid_1's map@1: 0.256667\n",
      "[70]\ttraining's map@1: 0.275833\tvalid_1's map@1: 0.26\n",
      "[80]\ttraining's map@1: 0.279444\tvalid_1's map@1: 0.258889\n",
      "[90]\ttraining's map@1: 0.283611\tvalid_1's map@1: 0.262222\n",
      "[100]\ttraining's map@1: 0.289444\tvalid_1's map@1: 0.265556\n",
      "[110]\ttraining's map@1: 0.2925\tvalid_1's map@1: 0.265556\n",
      "[120]\ttraining's map@1: 0.2975\tvalid_1's map@1: 0.267778\n",
      "[130]\ttraining's map@1: 0.299444\tvalid_1's map@1: 0.264444\n",
      "[140]\ttraining's map@1: 0.299167\tvalid_1's map@1: 0.267778\n",
      "[150]\ttraining's map@1: 0.303889\tvalid_1's map@1: 0.268889\n",
      "[160]\ttraining's map@1: 0.306389\tvalid_1's map@1: 0.27\n",
      "[170]\ttraining's map@1: 0.3075\tvalid_1's map@1: 0.268889\n"
     ]
    },
    {
     "name": "stdout",
     "output_type": "stream",
     "text": [
      "[180]\ttraining's map@1: 0.31\tvalid_1's map@1: 0.273333\n",
      "[190]\ttraining's map@1: 0.312778\tvalid_1's map@1: 0.271111\n",
      "[200]\ttraining's map@1: 0.315278\tvalid_1's map@1: 0.27\n",
      "[210]\ttraining's map@1: 0.3175\tvalid_1's map@1: 0.27\n",
      "[220]\ttraining's map@1: 0.317778\tvalid_1's map@1: 0.271111\n",
      "[230]\ttraining's map@1: 0.321111\tvalid_1's map@1: 0.271111\n",
      "[240]\ttraining's map@1: 0.321944\tvalid_1's map@1: 0.272222\n",
      "[250]\ttraining's map@1: 0.325\tvalid_1's map@1: 0.273333\n",
      "[260]\ttraining's map@1: 0.325556\tvalid_1's map@1: 0.276667\n",
      "[270]\ttraining's map@1: 0.327778\tvalid_1's map@1: 0.278889\n",
      "[280]\ttraining's map@1: 0.328611\tvalid_1's map@1: 0.281111\n",
      "[290]\ttraining's map@1: 0.329444\tvalid_1's map@1: 0.276667\n",
      "[300]\ttraining's map@1: 0.331944\tvalid_1's map@1: 0.276667\n",
      "[310]\ttraining's map@1: 0.334167\tvalid_1's map@1: 0.275556\n",
      "[320]\ttraining's map@1: 0.336389\tvalid_1's map@1: 0.28\n",
      "[330]\ttraining's map@1: 0.340278\tvalid_1's map@1: 0.28\n",
      "[340]\ttraining's map@1: 0.340833\tvalid_1's map@1: 0.282222\n",
      "[350]\ttraining's map@1: 0.342222\tvalid_1's map@1: 0.283333\n",
      "[360]\ttraining's map@1: 0.344444\tvalid_1's map@1: 0.285556\n",
      "[370]\ttraining's map@1: 0.346389\tvalid_1's map@1: 0.286667\n",
      "[380]\ttraining's map@1: 0.350278\tvalid_1's map@1: 0.286667\n",
      "[390]\ttraining's map@1: 0.352222\tvalid_1's map@1: 0.287778\n",
      "[400]\ttraining's map@1: 0.353333\tvalid_1's map@1: 0.287778\n",
      "[410]\ttraining's map@1: 0.353333\tvalid_1's map@1: 0.286667\n",
      "[420]\ttraining's map@1: 0.353056\tvalid_1's map@1: 0.286667\n",
      "[430]\ttraining's map@1: 0.354722\tvalid_1's map@1: 0.287778\n",
      "[440]\ttraining's map@1: 0.354167\tvalid_1's map@1: 0.286667\n",
      "[450]\ttraining's map@1: 0.353056\tvalid_1's map@1: 0.286667\n",
      "[460]\ttraining's map@1: 0.354444\tvalid_1's map@1: 0.285556\n",
      "[470]\ttraining's map@1: 0.354444\tvalid_1's map@1: 0.285556\n",
      "[480]\ttraining's map@1: 0.355\tvalid_1's map@1: 0.285556\n",
      "[490]\ttraining's map@1: 0.354167\tvalid_1's map@1: 0.284444\n",
      "Early stopping, best iteration is:\n",
      "[396]\ttraining's map@1: 0.353056\tvalid_1's map@1: 0.291111\n",
      "Fold 4 ------------------------------\n",
      "Training until validation scores don't improve for 100 rounds.\n",
      "[10]\ttraining's map@1: 0.263611\tvalid_1's map@1: 0.226667\n",
      "[20]\ttraining's map@1: 0.267778\tvalid_1's map@1: 0.223333\n",
      "[30]\ttraining's map@1: 0.274444\tvalid_1's map@1: 0.227778\n",
      "[40]\ttraining's map@1: 0.278333\tvalid_1's map@1: 0.226667\n",
      "[50]\ttraining's map@1: 0.281667\tvalid_1's map@1: 0.223333\n",
      "[60]\ttraining's map@1: 0.281667\tvalid_1's map@1: 0.23\n",
      "[70]\ttraining's map@1: 0.284722\tvalid_1's map@1: 0.23\n",
      "[80]\ttraining's map@1: 0.290278\tvalid_1's map@1: 0.233333\n",
      "[90]\ttraining's map@1: 0.294167\tvalid_1's map@1: 0.234444\n",
      "[100]\ttraining's map@1: 0.297222\tvalid_1's map@1: 0.233333\n",
      "[110]\ttraining's map@1: 0.301389\tvalid_1's map@1: 0.236667\n",
      "[120]\ttraining's map@1: 0.303056\tvalid_1's map@1: 0.234444\n",
      "[130]\ttraining's map@1: 0.308056\tvalid_1's map@1: 0.235556\n",
      "[140]\ttraining's map@1: 0.310556\tvalid_1's map@1: 0.236667\n",
      "[150]\ttraining's map@1: 0.313056\tvalid_1's map@1: 0.24\n",
      "[160]\ttraining's map@1: 0.316111\tvalid_1's map@1: 0.235556\n",
      "[170]\ttraining's map@1: 0.322778\tvalid_1's map@1: 0.237778\n",
      "[180]\ttraining's map@1: 0.325278\tvalid_1's map@1: 0.235556\n",
      "[190]\ttraining's map@1: 0.326944\tvalid_1's map@1: 0.232222\n",
      "[200]\ttraining's map@1: 0.332778\tvalid_1's map@1: 0.233333\n",
      "[210]\ttraining's map@1: 0.334722\tvalid_1's map@1: 0.227778\n",
      "[220]\ttraining's map@1: 0.337778\tvalid_1's map@1: 0.231111\n",
      "[230]\ttraining's map@1: 0.34\tvalid_1's map@1: 0.233333\n",
      "[240]\ttraining's map@1: 0.342222\tvalid_1's map@1: 0.233333\n",
      "Early stopping, best iteration is:\n",
      "[146]\ttraining's map@1: 0.312222\tvalid_1's map@1: 0.24\n",
      "mean score 0.2633333333333333\n"
     ]
    }
   ],
   "source": [
    "models,pred = cross_validate(target=\"mix_sat\",param=dict(n_estimators=1000,metric=\"map\",subsample=0.6,min_split_gain=10,colsample_bytree=0.6,max_depth=7,importance_type=\"gain\"),n_folds=5)"
   ]
  },
  {
   "cell_type": "code",
   "execution_count": 31,
   "metadata": {},
   "outputs": [
    {
     "data": {
      "image/png": "[encoded data removed]",
      "text/plain": [
       "<Figure size 1152x864 with 1 Axes>"
      ]
     },
     "metadata": {},
     "output_type": "display_data"
    }
   ],
   "source": [
    "import matplotlib.pyplot as plt\n",
    "import seaborn as sns\n",
    "\n",
    "feature_importance = pd.DataFrame()\n",
    "for idx,model in enumerate(models):\n",
    "    fold_importance = pd.DataFrame()\n",
    "    fold_importance[\"feature\"] =   [\"live_city_id\",\"desire_jd_salary_id\",\"cur_industry_id\",\"cur_jd_type\",\"cur_salary_id\",\n",
    "             \"cur_degree_id\",\"birthday\",\"city\",\"jd_sub_type\",\"require_nums\",\n",
    "                    \"jd_sub_browsed_rate\",\"jd_sub_delivered_rate\",\"jd_sub_satisfied_rate\",\n",
    "                 \"start_month\",\"jd_sub_satisfied_conv_rate\",\"jd_sub_delivered_conv_rate\",\n",
    "             \"max_salary\",\"min_salary\",\"is_travel\",\"min_years\",\"min_edu_level\",\n",
    "             \"exp_in_desc_num\",\n",
    "                   \"desire_min_salary\",\"desire_max_salary\",\"salary_large_than_desire\",\"cur_salary_min\",\n",
    "                   \"cur_salary_max\",\"salary_large_than_cur\",\"job_description_len\",\"experience_num\",\"work_years_statisfied\",\"work_years\",\"desire_jd_city_num\",\"desire_salary_diff\"]+cross_feature_names\n",
    "    fold_importance[\"importance\"] = model.feature_importances_\n",
    "    fold_importance[\"fold\"] = idx\n",
    "    feature_importance = pd.concat([feature_importance,fold_importance])\n",
    "plt.figure(figsize=(16, 12));\n",
    "sns.barplot(x=\"importance\", y=\"feature\", data=feature_importance.sort_values(by=\"importance\", ascending=False));\n",
    "plt.title('satisfied LGB Features (avg over folds)');"
   ]
  },
  {
   "cell_type": "code",
   "execution_count": 32,
   "metadata": {},
   "outputs": [
    {
     "name": "stderr",
     "output_type": "stream",
     "text": [
      "/home/ubuntu/anaconda3/envs/tensorflow_p36/lib/python3.6/site-packages/ipykernel/__main__.py:2: SettingWithCopyWarning: \n",
      "A value is trying to be set on a copy of a slice from a DataFrame.\n",
      "Try using .loc[row_indexer,col_indexer] = value instead\n",
      "\n",
      "See the caveats in the documentation: http://pandas.pydata.org/pandas-docs/stable/indexing.html#indexing-view-versus-copy\n",
      "  from ipykernel import kernelapp as app\n"
     ]
    },
    {
     "data": {
      "text/html": [
       "<div>\n",
       "<style scoped>\n",
       "    .dataframe tbody tr th:only-of-type {\n",
       "        vertical-align: middle;\n",
       "    }\n",
       "\n",
       "    .dataframe tbody tr th {\n",
       "        vertical-align: top;\n",
       "    }\n",
       "\n",
       "    .dataframe thead th {\n",
       "        text-align: right;\n",
       "    }\n",
       "</style>\n",
       "<table border=\"1\" class=\"dataframe\">\n",
       "  <thead>\n",
       "    <tr style=\"text-align: right;\">\n",
       "      <th></th>\n",
       "      <th></th>\n",
       "      <th>user_id</th>\n",
       "      <th>jd_no</th>\n",
       "      <th>score</th>\n",
       "    </tr>\n",
       "  </thead>\n",
       "  <tbody>\n",
       "    <tr>\n",
       "      <th rowspan=\"5\" valign=\"top\">0</th>\n",
       "      <th>3490</th>\n",
       "      <td>0060bfb67062ee4b1fcb276e5b3dedd2</td>\n",
       "      <td>4e706c7a2f9c2e7b15957c1264d4a96a</td>\n",
       "      <td>0.221594</td>\n",
       "    </tr>\n",
       "    <tr>\n",
       "      <th>3481</th>\n",
       "      <td>0060bfb67062ee4b1fcb276e5b3dedd2</td>\n",
       "      <td>e6f160d3fea1cbfbf953c556dad0c75d</td>\n",
       "      <td>0.000401</td>\n",
       "    </tr>\n",
       "    <tr>\n",
       "      <th>3426</th>\n",
       "      <td>0060bfb67062ee4b1fcb276e5b3dedd2</td>\n",
       "      <td>3df5b3a8931a179eb1c6fa7516f85106</td>\n",
       "      <td>-0.000080</td>\n",
       "    </tr>\n",
       "    <tr>\n",
       "      <th>3496</th>\n",
       "      <td>0060bfb67062ee4b1fcb276e5b3dedd2</td>\n",
       "      <td>aa19bfbedef465f297db184b84a745fe</td>\n",
       "      <td>-0.001451</td>\n",
       "    </tr>\n",
       "    <tr>\n",
       "      <th>3499</th>\n",
       "      <td>0060bfb67062ee4b1fcb276e5b3dedd2</td>\n",
       "      <td>ba639f9ac20cd8e6c10be8b07538b19d</td>\n",
       "      <td>-0.001916</td>\n",
       "    </tr>\n",
       "  </tbody>\n",
       "</table>\n",
       "</div>"
      ],
      "text/plain": [
       "                                 user_id                             jd_no  \\\n",
       "0 3490  0060bfb67062ee4b1fcb276e5b3dedd2  4e706c7a2f9c2e7b15957c1264d4a96a   \n",
       "  3481  0060bfb67062ee4b1fcb276e5b3dedd2  e6f160d3fea1cbfbf953c556dad0c75d   \n",
       "  3426  0060bfb67062ee4b1fcb276e5b3dedd2  3df5b3a8931a179eb1c6fa7516f85106   \n",
       "  3496  0060bfb67062ee4b1fcb276e5b3dedd2  aa19bfbedef465f297db184b84a745fe   \n",
       "  3499  0060bfb67062ee4b1fcb276e5b3dedd2  ba639f9ac20cd8e6c10be8b07538b19d   \n",
       "\n",
       "           score  \n",
       "0 3490  0.221594  \n",
       "  3481  0.000401  \n",
       "  3426 -0.000080  \n",
       "  3496 -0.001451  \n",
       "  3499 -0.001916  "
      ]
     },
     "execution_count": 32,
     "metadata": {},
     "output_type": "execute_result"
    }
   ],
   "source": [
    "submit = test_big_table[[\"user_id\",\"jd_no\"]]\n",
    "submit[\"score\"] = pred\n",
    "submit = submit.reset_index(drop=True)\n",
    "result = submit.groupby(\"user_id\",as_index=False).apply(lambda x:x.sort_values(\"score\",ascending=False))\n",
    "result.head()"
   ]
  },
  {
   "cell_type": "code",
   "execution_count": 57,
   "metadata": {},
   "outputs": [],
   "source": [
    "result[[\"user_id\",\"jd_no\",\"\"]].to_csv(\"submission1.csv\",index=False)"
   ]
  },
  {
   "cell_type": "code",
   "execution_count": null,
   "metadata": {},
   "outputs": [],
   "source": []
  }
 ],
 "metadata": {
  "kernelspec": {
   "display_name": "Environment (conda_tensorflow_p36)",
   "language": "python",
   "name": "conda_tensorflow_p36"
  },
  "language_info": {
   "codemirror_mode": {
    "name": "ipython",
    "version": 3
   },
   "file_extension": ".py",
   "mimetype": "text/x-python",
   "name": "python",
   "nbconvert_exporter": "python",
   "pygments_lexer": "ipython3",
   "version": "3.6.5"
  }
 },
 "nbformat": 4,
 "nbformat_minor": 2
}
