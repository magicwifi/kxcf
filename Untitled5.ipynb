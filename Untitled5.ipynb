{
 "cells": [
  {
   "cell_type": "code",
   "execution_count": 1,
   "metadata": {},
   "outputs": [],
   "source": [
    "# coding:utf-8\n",
    "\n",
    "import numpy as np\n",
    "import pandas as pd\n",
    "from pandas import Series, DataFrame\n",
    "\n",
    "import matplotlib.pyplot as plt\n",
    "\n",
    "from sklearn.model_selection import train_test_split\n",
    "\n",
    "\n",
    "%matplotlib inline"
   ]
  },
  {
   "cell_type": "code",
   "execution_count": 2,
   "metadata": {},
   "outputs": [
    {
     "name": "stderr",
     "output_type": "stream",
     "text": [
      "/home/ubuntu/anaconda3/envs/tensorflow_p36/lib/python3.6/site-packages/ipykernel/__main__.py:1: ParserWarning: Falling back to the 'python' engine because the 'c' engine does not support regex separators (separators > 1 char and different from '\\s+' are interpreted as regex); you can avoid this warning by specifying engine='python'.\n",
      "  if __name__ == '__main__':\n",
      "/home/ubuntu/anaconda3/envs/tensorflow_p36/lib/python3.6/site-packages/ipykernel/__main__.py:5: ParserWarning: Falling back to the 'python' engine because the 'c' engine does not support regex separators (separators > 1 char and different from '\\s+' are interpreted as regex); you can avoid this warning by specifying engine='python'.\n"
     ]
    }
   ],
   "source": [
    "sub1 = pd.read_csv('submission1.csv',encoding='utf-8',index_col = False, delimiter='\\,',\n",
    "                                 )\n",
    "result1 = sub1.groupby(\"user_id\",as_index=False).apply(lambda x:x.sort_values(\"score\",ascending=False))\n",
    "\n",
    "sub2 = pd.read_csv('submission2.csv',encoding='utf-8',index_col = False, delimiter='\\,',\n",
    "                                 )\n",
    "result2 = sub2.groupby(\"user_id\",as_index=False).apply(lambda x:x.sort_values(\"score\",ascending=False))"
   ]
  },
  {
   "cell_type": "code",
   "execution_count": 5,
   "metadata": {},
   "outputs": [
    {
     "data": {
      "text/html": [
       "<div>\n",
       "<style scoped>\n",
       "    .dataframe tbody tr th:only-of-type {\n",
       "        vertical-align: middle;\n",
       "    }\n",
       "\n",
       "    .dataframe tbody tr th {\n",
       "        vertical-align: top;\n",
       "    }\n",
       "\n",
       "    .dataframe thead th {\n",
       "        text-align: right;\n",
       "    }\n",
       "</style>\n",
       "<table border=\"1\" class=\"dataframe\">\n",
       "  <thead>\n",
       "    <tr style=\"text-align: right;\">\n",
       "      <th></th>\n",
       "      <th></th>\n",
       "      <th>user_id</th>\n",
       "      <th>jd_no</th>\n",
       "      <th>score</th>\n",
       "    </tr>\n",
       "  </thead>\n",
       "  <tbody>\n",
       "    <tr>\n",
       "      <th rowspan=\"5\" valign=\"top\">0</th>\n",
       "      <th>0</th>\n",
       "      <td>0060bfb67062ee4b1fcb276e5b3dedd2</td>\n",
       "      <td>4e706c7a2f9c2e7b15957c1264d4a96a</td>\n",
       "      <td>0.189314</td>\n",
       "    </tr>\n",
       "    <tr>\n",
       "      <th>1</th>\n",
       "      <td>0060bfb67062ee4b1fcb276e5b3dedd2</td>\n",
       "      <td>4d0bd5dc82486a37c77f99b60494abb9</td>\n",
       "      <td>-0.009213</td>\n",
       "    </tr>\n",
       "    <tr>\n",
       "      <th>2</th>\n",
       "      <td>0060bfb67062ee4b1fcb276e5b3dedd2</td>\n",
       "      <td>6f590d65cd1afc3cff1ff02de47a7089</td>\n",
       "      <td>-0.026634</td>\n",
       "    </tr>\n",
       "    <tr>\n",
       "      <th>3</th>\n",
       "      <td>0060bfb67062ee4b1fcb276e5b3dedd2</td>\n",
       "      <td>a31c03e6702cb7c79d5fa19700838030</td>\n",
       "      <td>-0.032496</td>\n",
       "    </tr>\n",
       "    <tr>\n",
       "      <th>4</th>\n",
       "      <td>0060bfb67062ee4b1fcb276e5b3dedd2</td>\n",
       "      <td>dd3a114f87418a76ea2b1d005d46202d</td>\n",
       "      <td>-0.037875</td>\n",
       "    </tr>\n",
       "  </tbody>\n",
       "</table>\n",
       "</div>"
      ],
      "text/plain": [
       "                              user_id                             jd_no  \\\n",
       "0 0  0060bfb67062ee4b1fcb276e5b3dedd2  4e706c7a2f9c2e7b15957c1264d4a96a   \n",
       "  1  0060bfb67062ee4b1fcb276e5b3dedd2  4d0bd5dc82486a37c77f99b60494abb9   \n",
       "  2  0060bfb67062ee4b1fcb276e5b3dedd2  6f590d65cd1afc3cff1ff02de47a7089   \n",
       "  3  0060bfb67062ee4b1fcb276e5b3dedd2  a31c03e6702cb7c79d5fa19700838030   \n",
       "  4  0060bfb67062ee4b1fcb276e5b3dedd2  dd3a114f87418a76ea2b1d005d46202d   \n",
       "\n",
       "        score  \n",
       "0 0  0.189314  \n",
       "  1 -0.009213  \n",
       "  2 -0.026634  \n",
       "  3 -0.032496  \n",
       "  4 -0.037875  "
      ]
     },
     "execution_count": 5,
     "metadata": {},
     "output_type": "execute_result"
    }
   ],
   "source": [
    "result2.head()"
   ]
  },
  {
   "cell_type": "code",
   "execution_count": 3,
   "metadata": {},
   "outputs": [
    {
     "name": "stderr",
     "output_type": "stream",
     "text": [
      "/home/ubuntu/anaconda3/envs/tensorflow_p36/lib/python3.6/site-packages/ipykernel/__main__.py:6: SettingWithCopyWarning: \n",
      "A value is trying to be set on a copy of a slice from a DataFrame.\n",
      "Try using .loc[row_indexer,col_indexer] = value instead\n",
      "\n",
      "See the caveats in the documentation: http://pandas.pydata.org/pandas-docs/stable/indexing.html#indexing-view-versus-copy\n"
     ]
    },
    {
     "ename": "KeyboardInterrupt",
     "evalue": "",
     "output_type": "error",
     "traceback": [
      "\u001b[0;31m---------------------------------------------------------------------------\u001b[0m",
      "\u001b[0;31mKeyboardInterrupt\u001b[0m                         Traceback (most recent call last)",
      "\u001b[0;32m<ipython-input-3-2ddc77f74b95>\u001b[0m in \u001b[0;36m<module>\u001b[0;34m()\u001b[0m\n\u001b[1;32m      6\u001b[0m     \u001b[0mgroup\u001b[0m\u001b[0;34m[\u001b[0m\u001b[0;34m'rank'\u001b[0m\u001b[0;34m]\u001b[0m \u001b[0;34m=\u001b[0m \u001b[0mgroup\u001b[0m\u001b[0;34m[\u001b[0m\u001b[0;34m'score'\u001b[0m\u001b[0;34m]\u001b[0m\u001b[0;34m.\u001b[0m\u001b[0mrank\u001b[0m\u001b[0;34m(\u001b[0m\u001b[0mascending\u001b[0m\u001b[0;34m=\u001b[0m\u001b[0;32mTrue\u001b[0m\u001b[0;34m,\u001b[0m \u001b[0mmethod\u001b[0m\u001b[0;34m=\u001b[0m\u001b[0;34m'min'\u001b[0m\u001b[0;34m)\u001b[0m\u001b[0;34m/\u001b[0m\u001b[0mgroup\u001b[0m\u001b[0;34m[\u001b[0m\u001b[0;34m'score'\u001b[0m\u001b[0;34m]\u001b[0m\u001b[0;34m.\u001b[0m\u001b[0mrank\u001b[0m\u001b[0;34m(\u001b[0m\u001b[0mascending\u001b[0m\u001b[0;34m=\u001b[0m\u001b[0;32mTrue\u001b[0m\u001b[0;34m,\u001b[0m \u001b[0mmethod\u001b[0m\u001b[0;34m=\u001b[0m\u001b[0;34m'min'\u001b[0m\u001b[0;34m)\u001b[0m\u001b[0;34m.\u001b[0m\u001b[0mmax\u001b[0m\u001b[0;34m(\u001b[0m\u001b[0;34m)\u001b[0m\u001b[0;34m\u001b[0m\u001b[0m\n\u001b[1;32m      7\u001b[0m     \u001b[0;32mfor\u001b[0m \u001b[0mi\u001b[0m \u001b[0;32min\u001b[0m \u001b[0mrange\u001b[0m\u001b[0;34m(\u001b[0m\u001b[0;36m0\u001b[0m\u001b[0;34m,\u001b[0m\u001b[0mlen\u001b[0m\u001b[0;34m(\u001b[0m\u001b[0mgroup\u001b[0m\u001b[0;34m)\u001b[0m\u001b[0;34m)\u001b[0m\u001b[0;34m:\u001b[0m\u001b[0;34m\u001b[0m\u001b[0m\n\u001b[0;32m----> 8\u001b[0;31m         \u001b[0mgroup_data_sub1\u001b[0m \u001b[0;34m=\u001b[0m \u001b[0mgroup_data_sub1\u001b[0m\u001b[0;34m.\u001b[0m\u001b[0mappend\u001b[0m\u001b[0;34m(\u001b[0m\u001b[0;34m{\u001b[0m\u001b[0;34m'user_id'\u001b[0m\u001b[0;34m:\u001b[0m\u001b[0mgroup\u001b[0m\u001b[0;34m[\u001b[0m\u001b[0;34m'user_id'\u001b[0m\u001b[0;34m]\u001b[0m\u001b[0;34m.\u001b[0m\u001b[0mvalues\u001b[0m\u001b[0;34m[\u001b[0m\u001b[0mi\u001b[0m\u001b[0;34m]\u001b[0m\u001b[0;34m,\u001b[0m\u001b[0;34m'jd_no'\u001b[0m\u001b[0;34m:\u001b[0m\u001b[0mgroup\u001b[0m\u001b[0;34m[\u001b[0m\u001b[0;34m'jd_no'\u001b[0m\u001b[0;34m]\u001b[0m\u001b[0;34m.\u001b[0m\u001b[0mvalues\u001b[0m\u001b[0;34m[\u001b[0m\u001b[0mi\u001b[0m\u001b[0;34m]\u001b[0m\u001b[0;34m,\u001b[0m\u001b[0;34m'rank'\u001b[0m\u001b[0;34m:\u001b[0m\u001b[0mgroup\u001b[0m\u001b[0;34m[\u001b[0m\u001b[0;34m'rank'\u001b[0m\u001b[0;34m]\u001b[0m\u001b[0;34m.\u001b[0m\u001b[0mvalues\u001b[0m\u001b[0;34m[\u001b[0m\u001b[0mi\u001b[0m\u001b[0;34m]\u001b[0m\u001b[0;34m}\u001b[0m\u001b[0;34m,\u001b[0m\u001b[0mignore_index\u001b[0m\u001b[0;34m=\u001b[0m\u001b[0;32mTrue\u001b[0m\u001b[0;34m)\u001b[0m\u001b[0;34m\u001b[0m\u001b[0m\n\u001b[0m\u001b[1;32m      9\u001b[0m         \u001b[0;31m#print(group_data_sub1)\u001b[0m\u001b[0;34m\u001b[0m\u001b[0;34m\u001b[0m\u001b[0m\n",
      "\u001b[0;32m~/anaconda3/envs/tensorflow_p36/lib/python3.6/site-packages/pandas/core/frame.py\u001b[0m in \u001b[0;36mappend\u001b[0;34m(self, other, ignore_index, verify_integrity, sort)\u001b[0m\n\u001b[1;32m   6690\u001b[0m         return concat(to_concat, ignore_index=ignore_index,\n\u001b[1;32m   6691\u001b[0m                       \u001b[0mverify_integrity\u001b[0m\u001b[0;34m=\u001b[0m\u001b[0mverify_integrity\u001b[0m\u001b[0;34m,\u001b[0m\u001b[0;34m\u001b[0m\u001b[0m\n\u001b[0;32m-> 6692\u001b[0;31m                       sort=sort)\n\u001b[0m\u001b[1;32m   6693\u001b[0m \u001b[0;34m\u001b[0m\u001b[0m\n\u001b[1;32m   6694\u001b[0m     def join(self, other, on=None, how='left', lsuffix='', rsuffix='',\n",
      "\u001b[0;32m~/anaconda3/envs/tensorflow_p36/lib/python3.6/site-packages/pandas/core/reshape/concat.py\u001b[0m in \u001b[0;36mconcat\u001b[0;34m(objs, axis, join, join_axes, ignore_index, keys, levels, names, verify_integrity, sort, copy)\u001b[0m\n\u001b[1;32m    227\u001b[0m                        \u001b[0mverify_integrity\u001b[0m\u001b[0;34m=\u001b[0m\u001b[0mverify_integrity\u001b[0m\u001b[0;34m,\u001b[0m\u001b[0;34m\u001b[0m\u001b[0m\n\u001b[1;32m    228\u001b[0m                        copy=copy, sort=sort)\n\u001b[0;32m--> 229\u001b[0;31m     \u001b[0;32mreturn\u001b[0m \u001b[0mop\u001b[0m\u001b[0;34m.\u001b[0m\u001b[0mget_result\u001b[0m\u001b[0;34m(\u001b[0m\u001b[0;34m)\u001b[0m\u001b[0;34m\u001b[0m\u001b[0m\n\u001b[0m\u001b[1;32m    230\u001b[0m \u001b[0;34m\u001b[0m\u001b[0m\n\u001b[1;32m    231\u001b[0m \u001b[0;34m\u001b[0m\u001b[0m\n",
      "\u001b[0;32m~/anaconda3/envs/tensorflow_p36/lib/python3.6/site-packages/pandas/core/reshape/concat.py\u001b[0m in \u001b[0;36mget_result\u001b[0;34m(self)\u001b[0m\n\u001b[1;32m    424\u001b[0m             new_data = concatenate_block_managers(\n\u001b[1;32m    425\u001b[0m                 \u001b[0mmgrs_indexers\u001b[0m\u001b[0;34m,\u001b[0m \u001b[0mself\u001b[0m\u001b[0;34m.\u001b[0m\u001b[0mnew_axes\u001b[0m\u001b[0;34m,\u001b[0m \u001b[0mconcat_axis\u001b[0m\u001b[0;34m=\u001b[0m\u001b[0mself\u001b[0m\u001b[0;34m.\u001b[0m\u001b[0maxis\u001b[0m\u001b[0;34m,\u001b[0m\u001b[0;34m\u001b[0m\u001b[0m\n\u001b[0;32m--> 426\u001b[0;31m                 copy=self.copy)\n\u001b[0m\u001b[1;32m    427\u001b[0m             \u001b[0;32mif\u001b[0m \u001b[0;32mnot\u001b[0m \u001b[0mself\u001b[0m\u001b[0;34m.\u001b[0m\u001b[0mcopy\u001b[0m\u001b[0;34m:\u001b[0m\u001b[0;34m\u001b[0m\u001b[0m\n\u001b[1;32m    428\u001b[0m                 \u001b[0mnew_data\u001b[0m\u001b[0;34m.\u001b[0m\u001b[0m_consolidate_inplace\u001b[0m\u001b[0;34m(\u001b[0m\u001b[0;34m)\u001b[0m\u001b[0;34m\u001b[0m\u001b[0m\n",
      "\u001b[0;32m~/anaconda3/envs/tensorflow_p36/lib/python3.6/site-packages/pandas/core/internals/managers.py\u001b[0m in \u001b[0;36mconcatenate_block_managers\u001b[0;34m(mgrs_indexers, axes, concat_axis, copy)\u001b[0m\n\u001b[1;32m   2056\u001b[0m         \u001b[0;32melif\u001b[0m \u001b[0mis_uniform_join_units\u001b[0m\u001b[0;34m(\u001b[0m\u001b[0mjoin_units\u001b[0m\u001b[0;34m)\u001b[0m\u001b[0;34m:\u001b[0m\u001b[0;34m\u001b[0m\u001b[0m\n\u001b[1;32m   2057\u001b[0m             b = join_units[0].block.concat_same_type(\n\u001b[0;32m-> 2058\u001b[0;31m                 [ju.block for ju in join_units], placement=placement)\n\u001b[0m\u001b[1;32m   2059\u001b[0m         \u001b[0;32melse\u001b[0m\u001b[0;34m:\u001b[0m\u001b[0;34m\u001b[0m\u001b[0m\n\u001b[1;32m   2060\u001b[0m             b = make_block(\n",
      "\u001b[0;32m~/anaconda3/envs/tensorflow_p36/lib/python3.6/site-packages/pandas/core/internals/blocks.py\u001b[0m in \u001b[0;36mconcat_same_type\u001b[0;34m(self, to_concat, placement)\u001b[0m\n\u001b[1;32m    326\u001b[0m         \"\"\"\n\u001b[1;32m    327\u001b[0m         values = self._concatenator([blk.values for blk in to_concat],\n\u001b[0;32m--> 328\u001b[0;31m                                     axis=self.ndim - 1)\n\u001b[0m\u001b[1;32m    329\u001b[0m         return self.make_block_same_class(\n\u001b[1;32m    330\u001b[0m             values, placement=placement or slice(0, len(values), 1))\n",
      "\u001b[0;31mKeyboardInterrupt\u001b[0m: "
     ]
    }
   ],
   "source": [
    "from scipy.stats import rankdata\n",
    "group_data_sub1 = pd.DataFrame(columns=['user_id','jd_no','rank'])\n",
    "\n",
    "for idx, group in result1.groupby(\"user_id\"):\n",
    "    #group['rank']=rankdata(group['score'])/rankdata(group['score']).max(\n",
    "    group['rank'] = group['score'].rank(ascending=True, method='min')/group['score'].rank(ascending=True, method='min').max()\n",
    "    for i in range(0,len(group)):\n",
    "        group_data_sub1 = group_data_sub1.append({'user_id':group['user_id'].values[i],'jd_no':group['jd_no'].values[i],'rank':group['rank'].values[i]},ignore_index=True)     \n",
    "        #print(group_data_sub1)\n",
    "\n"
   ]
  },
  {
   "cell_type": "code",
   "execution_count": null,
   "metadata": {},
   "outputs": [],
   "source": [
    "group_data_sub2 = pd.DataFrame(columns=['user_id','jd_no','rank'])\n",
    "\n",
    "for idx, group in result2.groupby(\"user_id\"):\n",
    "    #group['rank']=rankdata(group['score'])/rankdata(group['score']).max(\n",
    "    group['rank'] = group['score'].rank(ascending=True, method='min')/group['score'].rank(ascending=True, method='min').max()\n",
    "    for i in range(0,len(group)):\n",
    "        group_data_sub2 = group_data_sub2.append({'user_id':group['user_id'].values[i],'jd_no':group['jd_no'].values[i],'rank':group['rank'].values[i]},ignore_index=True)     \n",
    "        #print(group_data_sub1)\n",
    "\n",
    "group_data_sub2.head()"
   ]
  },
  {
   "cell_type": "code",
   "execution_count": null,
   "metadata": {},
   "outputs": [],
   "source": [
    "group_data_table = pd.merge(group_data_sub1,group_data_sub2,how=\"inner\",on=[\"user_id\",\"jd_no\"])"
   ]
  },
  {
   "cell_type": "code",
   "execution_count": 11,
   "metadata": {},
   "outputs": [
    {
     "data": {
      "text/html": [
       "<div>\n",
       "<style scoped>\n",
       "    .dataframe tbody tr th:only-of-type {\n",
       "        vertical-align: middle;\n",
       "    }\n",
       "\n",
       "    .dataframe tbody tr th {\n",
       "        vertical-align: top;\n",
       "    }\n",
       "\n",
       "    .dataframe thead th {\n",
       "        text-align: right;\n",
       "    }\n",
       "</style>\n",
       "<table border=\"1\" class=\"dataframe\">\n",
       "  <thead>\n",
       "    <tr style=\"text-align: right;\">\n",
       "      <th></th>\n",
       "      <th>user_id</th>\n",
       "      <th>jd_no</th>\n",
       "      <th>rank_x</th>\n",
       "      <th>rank_y</th>\n",
       "      <th>rank</th>\n",
       "    </tr>\n",
       "  </thead>\n",
       "  <tbody>\n",
       "    <tr>\n",
       "      <th>0</th>\n",
       "      <td>0060bfb67062ee4b1fcb276e5b3dedd2</td>\n",
       "      <td>e4ed73ce7b04402fb23236c02c2ee523</td>\n",
       "      <td>1.000000</td>\n",
       "      <td>0.082353</td>\n",
       "      <td>0.541176</td>\n",
       "    </tr>\n",
       "    <tr>\n",
       "      <th>1</th>\n",
       "      <td>0060bfb67062ee4b1fcb276e5b3dedd2</td>\n",
       "      <td>dd3a114f87418a76ea2b1d005d46202d</td>\n",
       "      <td>0.988235</td>\n",
       "      <td>0.952941</td>\n",
       "      <td>0.970588</td>\n",
       "    </tr>\n",
       "    <tr>\n",
       "      <th>2</th>\n",
       "      <td>0060bfb67062ee4b1fcb276e5b3dedd2</td>\n",
       "      <td>f6235d0d30e71991a48ced969febbc1d</td>\n",
       "      <td>0.976471</td>\n",
       "      <td>0.211765</td>\n",
       "      <td>0.594118</td>\n",
       "    </tr>\n",
       "    <tr>\n",
       "      <th>3</th>\n",
       "      <td>0060bfb67062ee4b1fcb276e5b3dedd2</td>\n",
       "      <td>4ed520f3209df87d639d77d7ed2df72a</td>\n",
       "      <td>0.964706</td>\n",
       "      <td>0.388235</td>\n",
       "      <td>0.676471</td>\n",
       "    </tr>\n",
       "    <tr>\n",
       "      <th>4</th>\n",
       "      <td>0060bfb67062ee4b1fcb276e5b3dedd2</td>\n",
       "      <td>e6f160d3fea1cbfbf953c556dad0c75d</td>\n",
       "      <td>0.952941</td>\n",
       "      <td>0.800000</td>\n",
       "      <td>0.876471</td>\n",
       "    </tr>\n",
       "  </tbody>\n",
       "</table>\n",
       "</div>"
      ],
      "text/plain": [
       "                            user_id                             jd_no  \\\n",
       "0  0060bfb67062ee4b1fcb276e5b3dedd2  e4ed73ce7b04402fb23236c02c2ee523   \n",
       "1  0060bfb67062ee4b1fcb276e5b3dedd2  dd3a114f87418a76ea2b1d005d46202d   \n",
       "2  0060bfb67062ee4b1fcb276e5b3dedd2  f6235d0d30e71991a48ced969febbc1d   \n",
       "3  0060bfb67062ee4b1fcb276e5b3dedd2  4ed520f3209df87d639d77d7ed2df72a   \n",
       "4  0060bfb67062ee4b1fcb276e5b3dedd2  e6f160d3fea1cbfbf953c556dad0c75d   \n",
       "\n",
       "     rank_x    rank_y      rank  \n",
       "0  1.000000  0.082353  0.541176  \n",
       "1  0.988235  0.952941  0.970588  \n",
       "2  0.976471  0.211765  0.594118  \n",
       "3  0.964706  0.388235  0.676471  \n",
       "4  0.952941  0.800000  0.876471  "
      ]
     },
     "execution_count": 11,
     "metadata": {},
     "output_type": "execute_result"
    }
   ],
   "source": [
    "group_data_table['rank'] = (group_data_table['rank_x']*0.1+group_data_table['rank_y'])/2\n",
    "group_data_table.head()"
   ]
  },
  {
   "cell_type": "code",
   "execution_count": 12,
   "metadata": {},
   "outputs": [
    {
     "data": {
      "text/html": [
       "<div>\n",
       "<style scoped>\n",
       "    .dataframe tbody tr th:only-of-type {\n",
       "        vertical-align: middle;\n",
       "    }\n",
       "\n",
       "    .dataframe tbody tr th {\n",
       "        vertical-align: top;\n",
       "    }\n",
       "\n",
       "    .dataframe thead th {\n",
       "        text-align: right;\n",
       "    }\n",
       "</style>\n",
       "<table border=\"1\" class=\"dataframe\">\n",
       "  <thead>\n",
       "    <tr style=\"text-align: right;\">\n",
       "      <th></th>\n",
       "      <th></th>\n",
       "      <th>user_id</th>\n",
       "      <th>jd_no</th>\n",
       "      <th>rank_x</th>\n",
       "      <th>rank_y</th>\n",
       "      <th>rank</th>\n",
       "    </tr>\n",
       "  </thead>\n",
       "  <tbody>\n",
       "    <tr>\n",
       "      <th rowspan=\"5\" valign=\"top\">0</th>\n",
       "      <th>1</th>\n",
       "      <td>0060bfb67062ee4b1fcb276e5b3dedd2</td>\n",
       "      <td>dd3a114f87418a76ea2b1d005d46202d</td>\n",
       "      <td>0.988235</td>\n",
       "      <td>0.952941</td>\n",
       "      <td>0.970588</td>\n",
       "    </tr>\n",
       "    <tr>\n",
       "      <th>12</th>\n",
       "      <td>0060bfb67062ee4b1fcb276e5b3dedd2</td>\n",
       "      <td>6f590d65cd1afc3cff1ff02de47a7089</td>\n",
       "      <td>0.858824</td>\n",
       "      <td>0.976471</td>\n",
       "      <td>0.917647</td>\n",
       "    </tr>\n",
       "    <tr>\n",
       "      <th>9</th>\n",
       "      <td>0060bfb67062ee4b1fcb276e5b3dedd2</td>\n",
       "      <td>3df5b3a8931a179eb1c6fa7516f85106</td>\n",
       "      <td>0.894118</td>\n",
       "      <td>0.870588</td>\n",
       "      <td>0.882353</td>\n",
       "    </tr>\n",
       "    <tr>\n",
       "      <th>4</th>\n",
       "      <td>0060bfb67062ee4b1fcb276e5b3dedd2</td>\n",
       "      <td>e6f160d3fea1cbfbf953c556dad0c75d</td>\n",
       "      <td>0.952941</td>\n",
       "      <td>0.800000</td>\n",
       "      <td>0.876471</td>\n",
       "    </tr>\n",
       "    <tr>\n",
       "      <th>28</th>\n",
       "      <td>0060bfb67062ee4b1fcb276e5b3dedd2</td>\n",
       "      <td>4e706c7a2f9c2e7b15957c1264d4a96a</td>\n",
       "      <td>0.670588</td>\n",
       "      <td>1.000000</td>\n",
       "      <td>0.835294</td>\n",
       "    </tr>\n",
       "  </tbody>\n",
       "</table>\n",
       "</div>"
      ],
      "text/plain": [
       "                               user_id                             jd_no  \\\n",
       "0 1   0060bfb67062ee4b1fcb276e5b3dedd2  dd3a114f87418a76ea2b1d005d46202d   \n",
       "  12  0060bfb67062ee4b1fcb276e5b3dedd2  6f590d65cd1afc3cff1ff02de47a7089   \n",
       "  9   0060bfb67062ee4b1fcb276e5b3dedd2  3df5b3a8931a179eb1c6fa7516f85106   \n",
       "  4   0060bfb67062ee4b1fcb276e5b3dedd2  e6f160d3fea1cbfbf953c556dad0c75d   \n",
       "  28  0060bfb67062ee4b1fcb276e5b3dedd2  4e706c7a2f9c2e7b15957c1264d4a96a   \n",
       "\n",
       "        rank_x    rank_y      rank  \n",
       "0 1   0.988235  0.952941  0.970588  \n",
       "  12  0.858824  0.976471  0.917647  \n",
       "  9   0.894118  0.870588  0.882353  \n",
       "  4   0.952941  0.800000  0.876471  \n",
       "  28  0.670588  1.000000  0.835294  "
      ]
     },
     "execution_count": 12,
     "metadata": {},
     "output_type": "execute_result"
    }
   ],
   "source": [
    "result = group_data_table.groupby(\"user_id\",as_index=False).apply(lambda x:x.sort_values(\"rank\",ascending=False))\n",
    "result.head()"
   ]
  },
  {
   "cell_type": "code",
   "execution_count": 13,
   "metadata": {},
   "outputs": [],
   "source": [
    "result[[\"user_id\",\"jd_no\"]].to_csv(\"submission3.csv\",index=False)"
   ]
  },
  {
   "cell_type": "code",
   "execution_count": null,
   "metadata": {},
   "outputs": [],
   "source": []
  }
 ],
 "metadata": {
  "kernelspec": {
   "display_name": "Environment (conda_tensorflow_p36)",
   "language": "python",
   "name": "conda_tensorflow_p36"
  },
  "language_info": {
   "codemirror_mode": {
    "name": "ipython",
    "version": 3
   },
   "file_extension": ".py",
   "mimetype": "text/x-python",
   "name": "python",
   "nbconvert_exporter": "python",
   "pygments_lexer": "ipython3",
   "version": "3.6.5"
  }
 },
 "nbformat": 4,
 "nbformat_minor": 2
}
